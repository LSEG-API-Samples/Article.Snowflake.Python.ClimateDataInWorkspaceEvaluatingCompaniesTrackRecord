{
 "cells": [
  {
   "cell_type": "markdown",
   "metadata": {},
   "source": [
    "# LSEG's SFI Climate Data in Workspace: A use-case evaluating public companies' Climate track record using Python\n",
    "\n",
    "In this article, we will investigate Public Companies' Climate promises and whether they are on track to meet them. The data needed for such an investigation is not onboarded on [LSEG's Data Platform](https://developers.lseg.com/en/api-catalog/refinitiv-data-platform/refinitiv-data-platform-apis) yet; but, thankfully, it is on both (i) on LSEG's Sustainable Finance Investing (SFI) Snowflake and (ii) on Workspace. Thanks to the latter, we can call for this data on CodeBook. For more information on the Climate data we are collecting and the methodology, please refer to the article \"LSEG's SFI Snowflake Datawarehouse: A use-case evaluating public companies' Climate track record using Python and SQL\".\n",
    "\n",
    "LSEG usually collects data from a number of vendors, but when it comes to climate data, we rely on our analysts to retrieve the information directly from companies disclosures. The most exciting data onboarded has, recently, related to ESG and Climate topics. In this article, we will directly source the data we are after using the [Data Item Browser](https://developers.refinitiv.com/en/video-catalog/data-item-browser) and [CodeBook](https://developers.lseg.com/en/video-catalog/from-developer-articles-to-codebook).\n",
    "\n",
    "## Importing libraries and Authentifying ourselves to LSEG's services"
   ]
  },
  {
   "cell_type": "code",
   "execution_count": 46,
   "metadata": {},
   "outputs": [],
   "source": [
    "import re # We'll use the `re` library to seperate numbers from words in strings.\n",
    "import pandas as pd # this library is great for dataframe manipulations.\n",
    "import plotly.graph_objects as go # `plotly` and its modules are useful for us to plot graphs.\n",
    "import numpy as np # `numpy` in this case will be useful for us to plot graphs."
   ]
  },
  {
   "cell_type": "code",
   "execution_count": 47,
   "metadata": {},
   "outputs": [
    {
     "data": {
      "text/plain": [
       "<lseg.data.session.Definition object at 0x1a9c5f5b850 {name='workspace'}>"
      ]
     },
     "execution_count": 47,
     "metadata": {},
     "output_type": "execute_result"
    }
   ],
   "source": [
    "import lseg.data as ld\n",
    "ld.open_session()"
   ]
  },
  {
   "cell_type": "markdown",
   "metadata": {},
   "source": [
    "## Calling and tidying our data\n",
    "\n",
    "For more information on the reason why we are collecting this data, please refer to the article \"LSEG's SFI Snowflake Datawarehouse: A use-case evaluating public companies' Climate track record using Python and SQL\". With that said, it will be evident, during the article, why we collected this data.\n",
    "\n",
    "First, let's put in place the primary parameters:"
   ]
  },
  {
   "cell_type": "code",
   "execution_count": 48,
   "metadata": {},
   "outputs": [],
   "source": [
    "RIC = \"MSFT.O\" # SHEL.L, AAPL.O\n",
    "scopeOfInterest = \"1\" # choice between \"1\", \"2\", \"3\", \"1 and 2\" or \"1, 2 and 3\"\n",
    "setOfInterest = 1 # choice from 1 to 5\n",
    "termOfInterest = \"LT\" # choice between \"ST\" and \"LT\"\n",
    "sourceOfInterest = \"LSEG\" # choice between \"LSEG\" and \"CDP\""
   ]
  },
  {
   "cell_type": "markdown",
   "metadata": {},
   "source": [
    "We need extra parameters for the logic we'll create below, I define them here:"
   ]
  },
  {
   "cell_type": "code",
   "execution_count": 49,
   "metadata": {},
   "outputs": [],
   "source": [
    "scopeOfInterestFirstNumber = int(re.search(r'\\d+', scopeOfInterest).group())\n",
    "\n",
    "if termOfInterest == \"ST\":\n",
    "    termNotOfInterest = \"LT\"\n",
    "else:\n",
    "    termNotOfInterest = \"ST\"\n",
    "\n",
    "if sourceOfInterest == \"LSEG\":\n",
    "    _sourceOfInterest = \"\"\n",
    "elif sourceOfInterest == \"CDP\":\n",
    "    _sourceOfInterest = sourceOfInterest"
   ]
  },
  {
   "cell_type": "markdown",
   "metadata": {},
   "source": [
    "Now, we can create the list of fields we're after from LSEG's services:"
   ]
  },
  {
   "cell_type": "code",
   "execution_count": 50,
   "metadata": {},
   "outputs": [
    {
     "name": "stdout",
     "output_type": "stream",
     "text": [
      "['TR.CO2EquivalentEmissionsTotalMarketbased', 'TR.CO2EmissionTotal', 'TR.CO2DirectScope1', 'TR.CO2IndirectScope1', 'TR.CO2DirectScope2', 'TR.CO2IndirectScope2', 'TR.CO2DirectScope3', 'TR.CO2IndirectScope3', 'TR.CO2EmissionTotal', 'TR.TotalCO2EquivalentEmissionsScope1and2and3', 'TR.TotalCO2EquivalentEmissionScope1and2and3Marketbased', 'TR.LTGHGEmissionPercentageReductionTargetedSet1', 'TR.LTPercentageofGHGEmissionCoveredbyTargetSet1', 'TR.LTGHGEmissionScopeSet1', 'TR.LTGHGEmissionBaseYearSet1', 'TR.LTGHGEmissionTargetYearSet1']\n"
     ]
    }
   ],
   "source": [
    "lstOfFlds = [\"TR.CO2EquivalentEmissionsTotalMarketbased\", \"TR.CO2EmissionTotal\"]\n",
    "\n",
    "for i in range(1,4):\n",
    "    lstOfFlds.append(f\"TR.{_sourceOfInterest}CO2DirectScope{i}\")\n",
    "    lstOfFlds.append(f\"TR.{_sourceOfInterest}CO2IndirectScope{i}\")\n",
    "lstOfFlds.append(f\"TR.{_sourceOfInterest}CO2EmissionTotal\")\n",
    "lstOfFlds.append(f\"TR.{_sourceOfInterest}TotalCO2EquivalentEmissionsScope1and2and3\")\n",
    "lstOfFlds.append(f\"TR.{_sourceOfInterest}TotalCO2EquivalentEmissionScope1and2and3Marketbased\")\n",
    "lstOfFlds.append(f\"TR.{_sourceOfInterest}{termOfInterest}GHGEmissionPercentageReductionTargetedSet{setOfInterest}\")\n",
    "lstOfFlds.append(f\"TR.{_sourceOfInterest}{termOfInterest}PercentageofGHGEmissionCoveredbyTargetSet{setOfInterest}\")\n",
    "lstOfFlds.append(f\"TR.{_sourceOfInterest}{termOfInterest}GHGEmissionScopeSet{setOfInterest}\")\n",
    "lstOfFlds.append(f\"TR.{_sourceOfInterest}{termOfInterest}GHGEmissionBaseYearSet{setOfInterest}\")\n",
    "lstOfFlds.append(f\"TR.{_sourceOfInterest}{termOfInterest}GHGEmissionTargetYearSet{setOfInterest}\")\n",
    "print(lstOfFlds)"
   ]
  },
  {
   "cell_type": "code",
   "execution_count": 51,
   "metadata": {},
   "outputs": [
    {
     "data": {
      "text/plain": [
       "16"
      ]
     },
     "execution_count": 51,
     "metadata": {},
     "output_type": "execute_result"
    }
   ],
   "source": [
    "len(lstOfFlds)"
   ]
  },
  {
   "cell_type": "markdown",
   "metadata": {},
   "source": [
    "Now we're cooking:"
   ]
  },
  {
   "cell_type": "code",
   "execution_count": 52,
   "metadata": {},
   "outputs": [],
   "source": [
    "df0 = ld.get_history(\n",
    "    universe=[RIC],\n",
    "    fields=lstOfFlds,\n",
    "    start=\"1990-01-01\",\n",
    "    end=\"2025-01-01\",\n",
    "    header_type=ld.HeaderType.NAME_AND_TITLE,\n",
    ").dropna(how='all')"
   ]
  },
  {
   "cell_type": "code",
   "execution_count": 53,
   "metadata": {},
   "outputs": [
    {
     "data": {
      "text/html": [
       "<div>\n",
       "<style scoped>\n",
       "    .dataframe tbody tr th:only-of-type {\n",
       "        vertical-align: middle;\n",
       "    }\n",
       "\n",
       "    .dataframe tbody tr th {\n",
       "        vertical-align: top;\n",
       "    }\n",
       "\n",
       "    .dataframe thead th {\n",
       "        text-align: right;\n",
       "    }\n",
       "</style>\n",
       "<table border=\"1\" class=\"dataframe\">\n",
       "  <thead>\n",
       "    <tr style=\"text-align: right;\">\n",
       "      <th>MSFT.O</th>\n",
       "      <th>TR.CO2EQUIVALENTEMISSIONSTOTALMARKETBASED|CO2 Equivalent Emissions Total Market-based</th>\n",
       "      <th>TR.CO2EMISSIONTOTAL|CO2 Equivalent Emissions Total</th>\n",
       "      <th>TR.CO2DIRECTSCOPE1|CO2 Equivalent Emissions Direct, Scope 1</th>\n",
       "      <th>TR.CO2INDIRECTSCOPE2|CO2 Equivalent Emissions Indirect, Scope 2</th>\n",
       "      <th>TR.CO2INDIRECTSCOPE3|CO2 Equivalent Emissions Indirect, Scope 3</th>\n",
       "      <th>TR.TOTALCO2EQUIVALENTEMISSIONSSCOPE1AND2AND3|Total CO2 Equivalent Emissions Scope 1, 2 and 3</th>\n",
       "      <th>TR.TOTALCO2EQUIVALENTEMISSIONSCOPE1AND2AND3MARKETBASED|Total CO2 Equivalent Emission Scope 1, 2 and 3 Market-based</th>\n",
       "      <th>TR.LTGHGEMISSIONPERCENTAGEREDUCTIONTARGETEDSET1|LT GHG Emission Percentage Reduction Targeted Set1</th>\n",
       "      <th>TR.LTPERCENTAGEOFGHGEMISSIONCOVEREDBYTARGETSET1|LT Percentage of GHG Emission Covered by Target Set1</th>\n",
       "      <th>TR.LTGHGEMISSIONSCOPESET1|LT GHG Emission Scope Set1</th>\n",
       "      <th>TR.LTGHGEMISSIONBASEYEARSET1|LT GHG Emission Base Year Set1</th>\n",
       "      <th>TR.LTGHGEMISSIONTARGETYEARSET1|LT GHG Emission Target Year Set1</th>\n",
       "    </tr>\n",
       "    <tr>\n",
       "      <th>Date</th>\n",
       "      <th></th>\n",
       "      <th></th>\n",
       "      <th></th>\n",
       "      <th></th>\n",
       "      <th></th>\n",
       "      <th></th>\n",
       "      <th></th>\n",
       "      <th></th>\n",
       "      <th></th>\n",
       "      <th></th>\n",
       "      <th></th>\n",
       "      <th></th>\n",
       "    </tr>\n",
       "  </thead>\n",
       "  <tbody>\n",
       "    <tr>\n",
       "      <th>2020-06-30</th>\n",
       "      <td>574219</td>\n",
       "      <td>&lt;NA&gt;</td>\n",
       "      <td>&lt;NA&gt;</td>\n",
       "      <td>&lt;NA&gt;</td>\n",
       "      <td>&lt;NA&gt;</td>\n",
       "      <td>&lt;NA&gt;</td>\n",
       "      <td>12227000</td>\n",
       "      <td>&lt;NA&gt;</td>\n",
       "      <td>&lt;NA&gt;</td>\n",
       "      <td></td>\n",
       "      <td>&lt;NA&gt;</td>\n",
       "      <td>&lt;NA&gt;</td>\n",
       "    </tr>\n",
       "    <tr>\n",
       "      <th>2021-06-30</th>\n",
       "      <td>553109</td>\n",
       "      <td>5134371</td>\n",
       "      <td>123704</td>\n",
       "      <td>5010667</td>\n",
       "      <td>13839000</td>\n",
       "      <td>18973371</td>\n",
       "      <td>14392000</td>\n",
       "      <td>75</td>\n",
       "      <td>100</td>\n",
       "      <td>Scope 1 and 2</td>\n",
       "      <td>2013</td>\n",
       "      <td>2045</td>\n",
       "    </tr>\n",
       "    <tr>\n",
       "      <th>2022-06-30</th>\n",
       "      <td>427442</td>\n",
       "      <td>6520663</td>\n",
       "      <td>139413</td>\n",
       "      <td>6381250</td>\n",
       "      <td>16111000</td>\n",
       "      <td>22631663</td>\n",
       "      <td>16538000</td>\n",
       "      <td>75</td>\n",
       "      <td>100</td>\n",
       "      <td>Scope 1 and 2</td>\n",
       "      <td>2013</td>\n",
       "      <td>2045</td>\n",
       "    </tr>\n",
       "  </tbody>\n",
       "</table>\n",
       "</div>"
      ],
      "text/plain": [
       "MSFT.O      TR.CO2EQUIVALENTEMISSIONSTOTALMARKETBASED|CO2 Equivalent Emissions Total Market-based  \\\n",
       "Date                                                                                                \n",
       "2020-06-30                                             574219                                       \n",
       "2021-06-30                                             553109                                       \n",
       "2022-06-30                                             427442                                       \n",
       "\n",
       "MSFT.O      TR.CO2EMISSIONTOTAL|CO2 Equivalent Emissions Total  \\\n",
       "Date                                                             \n",
       "2020-06-30                                               <NA>    \n",
       "2021-06-30                                            5134371    \n",
       "2022-06-30                                            6520663    \n",
       "\n",
       "MSFT.O      TR.CO2DIRECTSCOPE1|CO2 Equivalent Emissions Direct, Scope 1  \\\n",
       "Date                                                                      \n",
       "2020-06-30                                               <NA>             \n",
       "2021-06-30                                             123704             \n",
       "2022-06-30                                             139413             \n",
       "\n",
       "MSFT.O      TR.CO2INDIRECTSCOPE2|CO2 Equivalent Emissions Indirect, Scope 2  \\\n",
       "Date                                                                          \n",
       "2020-06-30                                               <NA>                 \n",
       "2021-06-30                                            5010667                 \n",
       "2022-06-30                                            6381250                 \n",
       "\n",
       "MSFT.O      TR.CO2INDIRECTSCOPE3|CO2 Equivalent Emissions Indirect, Scope 3  \\\n",
       "Date                                                                          \n",
       "2020-06-30                                               <NA>                 \n",
       "2021-06-30                                           13839000                 \n",
       "2022-06-30                                           16111000                 \n",
       "\n",
       "MSFT.O      TR.TOTALCO2EQUIVALENTEMISSIONSSCOPE1AND2AND3|Total CO2 Equivalent Emissions Scope 1, 2 and 3  \\\n",
       "Date                                                                                                       \n",
       "2020-06-30                                               <NA>                                              \n",
       "2021-06-30                                           18973371                                              \n",
       "2022-06-30                                           22631663                                              \n",
       "\n",
       "MSFT.O      TR.TOTALCO2EQUIVALENTEMISSIONSCOPE1AND2AND3MARKETBASED|Total CO2 Equivalent Emission Scope 1, 2 and 3 Market-based  \\\n",
       "Date                                                                                                                             \n",
       "2020-06-30                                           12227000                                                                    \n",
       "2021-06-30                                           14392000                                                                    \n",
       "2022-06-30                                           16538000                                                                    \n",
       "\n",
       "MSFT.O      TR.LTGHGEMISSIONPERCENTAGEREDUCTIONTARGETEDSET1|LT GHG Emission Percentage Reduction Targeted Set1  \\\n",
       "Date                                                                                                             \n",
       "2020-06-30                                               <NA>                                                    \n",
       "2021-06-30                                                 75                                                    \n",
       "2022-06-30                                                 75                                                    \n",
       "\n",
       "MSFT.O      TR.LTPERCENTAGEOFGHGEMISSIONCOVEREDBYTARGETSET1|LT Percentage of GHG Emission Covered by Target Set1  \\\n",
       "Date                                                                                                               \n",
       "2020-06-30                                               <NA>                                                      \n",
       "2021-06-30                                                100                                                      \n",
       "2022-06-30                                                100                                                      \n",
       "\n",
       "MSFT.O     TR.LTGHGEMISSIONSCOPESET1|LT GHG Emission Scope Set1  \\\n",
       "Date                                                              \n",
       "2020-06-30                                                        \n",
       "2021-06-30                                      Scope 1 and 2     \n",
       "2022-06-30                                      Scope 1 and 2     \n",
       "\n",
       "MSFT.O      TR.LTGHGEMISSIONBASEYEARSET1|LT GHG Emission Base Year Set1  \\\n",
       "Date                                                                      \n",
       "2020-06-30                                               <NA>             \n",
       "2021-06-30                                               2013             \n",
       "2022-06-30                                               2013             \n",
       "\n",
       "MSFT.O      TR.LTGHGEMISSIONTARGETYEARSET1|LT GHG Emission Target Year Set1  \n",
       "Date                                                                         \n",
       "2020-06-30                                               <NA>                \n",
       "2021-06-30                                               2045                \n",
       "2022-06-30                                               2045                "
      ]
     },
     "execution_count": 53,
     "metadata": {},
     "output_type": "execute_result"
    }
   ],
   "source": [
    "df0.tail(3)"
   ]
  },
  {
   "cell_type": "markdown",
   "metadata": {},
   "source": [
    "As it happens, \"CO2 Equivalent Emissions Total\" is \"CO2 Equivalent Emissions Direct, Scope 1\"; I don't want to overwright the column names, so let's just add a new one:"
   ]
  },
  {
   "cell_type": "code",
   "execution_count": 54,
   "metadata": {},
   "outputs": [],
   "source": [
    "if scopeOfInterest == \"1 and 2\":\n",
    "    df0[f\"TR.{sourceOfInterest}CO2EQUIVALENTEMISSIONTOTAL|CO2 Equivalent Emissions Direct, Scope 1 and 2\"] = df0[f\"TR.{sourceOfInterest}CO2EQUIVALENTEMISSIONTOTAL|CO2 Equivalent Emissions Total\"]"
   ]
  },
  {
   "cell_type": "code",
   "execution_count": 55,
   "metadata": {},
   "outputs": [
    {
     "name": "stdout",
     "output_type": "stream",
     "text": [
      "['TR.CO2EQUIVALENTEMISSIONSTOTALMARKETBASED|CO2 Equivalent Emissions Total Market-based', 'TR.CO2EMISSIONTOTAL|CO2 Equivalent Emissions Total', 'TR.CO2DIRECTSCOPE1|CO2 Equivalent Emissions Direct, Scope 1', 'TR.CO2INDIRECTSCOPE2|CO2 Equivalent Emissions Indirect, Scope 2', 'TR.CO2INDIRECTSCOPE3|CO2 Equivalent Emissions Indirect, Scope 3', 'TR.TOTALCO2EQUIVALENTEMISSIONSSCOPE1AND2AND3|Total CO2 Equivalent Emissions Scope 1, 2 and 3', 'TR.TOTALCO2EQUIVALENTEMISSIONSCOPE1AND2AND3MARKETBASED|Total CO2 Equivalent Emission Scope 1, 2 and 3 Market-based', 'TR.LTGHGEMISSIONPERCENTAGEREDUCTIONTARGETEDSET1|LT GHG Emission Percentage Reduction Targeted Set1', 'TR.LTPERCENTAGEOFGHGEMISSIONCOVEREDBYTARGETSET1|LT Percentage of GHG Emission Covered by Target Set1', 'TR.LTGHGEMISSIONSCOPESET1|LT GHG Emission Scope Set1', 'TR.LTGHGEMISSIONBASEYEARSET1|LT GHG Emission Base Year Set1', 'TR.LTGHGEMISSIONTARGETYEARSET1|LT GHG Emission Target Year Set1']\n"
     ]
    }
   ],
   "source": [
    "print(list(df0.columns))"
   ]
  },
  {
   "cell_type": "markdown",
   "metadata": {},
   "source": [
    "As you see, there are several Scopes and Sets we may be interested in. Scope can be \"1\", \"2\", \"1+2\", \"3\" or \"1+2+3\". Scope can be anything from 1 to 5 (inclusive)."
   ]
  },
  {
   "cell_type": "code",
   "execution_count": 56,
   "metadata": {},
   "outputs": [
    {
     "name": "stdout",
     "output_type": "stream",
     "text": [
      "8\n"
     ]
    },
    {
     "data": {
      "text/plain": [
       "['TR.CO2EQUIVALENTEMISSIONSTOTALMARKETBASED|CO2 Equivalent Emissions Total Market-based',\n",
       " 'TR.CO2EMISSIONTOTAL|CO2 Equivalent Emissions Total',\n",
       " 'TR.CO2DIRECTSCOPE1|CO2 Equivalent Emissions Direct, Scope 1',\n",
       " 'TR.LTGHGEMISSIONPERCENTAGEREDUCTIONTARGETEDSET1|LT GHG Emission Percentage Reduction Targeted Set1',\n",
       " 'TR.LTPERCENTAGEOFGHGEMISSIONCOVEREDBYTARGETSET1|LT Percentage of GHG Emission Covered by Target Set1',\n",
       " 'TR.LTGHGEMISSIONSCOPESET1|LT GHG Emission Scope Set1',\n",
       " 'TR.LTGHGEMISSIONBASEYEARSET1|LT GHG Emission Base Year Set1',\n",
       " 'TR.LTGHGEMISSIONTARGETYEARSET1|LT GHG Emission Target Year Set1']"
      ]
     },
     "execution_count": 56,
     "metadata": {},
     "output_type": "execute_result"
    }
   ],
   "source": [
    "if sourceOfInterest == \"LSEG\":\n",
    "    cols = [\n",
    "        col for col in df0.columns\n",
    "            if 'CO2EQUIVALENTEMISSIONSTOTALMARKETBASED' in col\n",
    "            or \"CO2EMISSIONTOTAL\" in col\n",
    "            or (\n",
    "                'CDP' not in col # not in\n",
    "                and f'Scope {scopeOfInterest}, ' not in col\n",
    "                and f'Scope {scopeOfInterest} and ' not in col\n",
    "                and f'Scope {scopeOfInterestFirstNumber+1}' not in col\n",
    "                and f'Scope {scopeOfInterestFirstNumber+2}' not in col\n",
    "                and f'Scope {scopeOfInterestFirstNumber-1}' not in col\n",
    "                and f'Scope {scopeOfInterestFirstNumber-2}' not in col\n",
    "                and f'{termNotOfInterest}GHGEMISSION' not in col\n",
    "                and f'{termNotOfInterest}PERCENTAGE' not in col\n",
    "                and (\n",
    "                    f'Scope {scopeOfInterest}' in col\n",
    "                    or f'Set{setOfInterest}' in col))]\n",
    "\n",
    "if sourceOfInterest == \"CDP\":  # choice of \"LSEG or \"CDP\"\n",
    "    cols = [\n",
    "        col for col in df0.columns\n",
    "            if 'CO2EQUIVALENTEMISSIONSTOTALMARKETBASED' in col\n",
    "            or \"CO2EMISSIONTOTAL\" in col\n",
    "            or (\n",
    "                'CDP' in col # in\n",
    "                and f'Scope {scopeOfInterest}, ' not in col\n",
    "                and f'Scope {scopeOfInterest} and ' not in col\n",
    "                and f'Scope {scopeOfInterestFirstNumber+1}' not in col\n",
    "                and f'Scope {scopeOfInterestFirstNumber+2}' not in col\n",
    "                and f'Scope {scopeOfInterestFirstNumber-1}' not in col\n",
    "                and f'Scope {scopeOfInterestFirstNumber-2}' not in col\n",
    "                and f'{termNotOfInterest}GHGEMISSION' not in col\n",
    "                and f'{termNotOfInterest}PERCENTAGE' not in col\n",
    "                and (\n",
    "                    f'Scope {scopeOfInterest}' in col\n",
    "                    or f'Set{setOfInterest}' in col))]\n",
    "\n",
    "print(len(cols))\n",
    "cols"
   ]
  },
  {
   "cell_type": "code",
   "execution_count": 57,
   "metadata": {},
   "outputs": [
    {
     "data": {
      "text/html": [
       "<div>\n",
       "<style scoped>\n",
       "    .dataframe tbody tr th:only-of-type {\n",
       "        vertical-align: middle;\n",
       "    }\n",
       "\n",
       "    .dataframe tbody tr th {\n",
       "        vertical-align: top;\n",
       "    }\n",
       "\n",
       "    .dataframe thead th {\n",
       "        text-align: right;\n",
       "    }\n",
       "</style>\n",
       "<table border=\"1\" class=\"dataframe\">\n",
       "  <thead>\n",
       "    <tr style=\"text-align: right;\">\n",
       "      <th>MSFT.O</th>\n",
       "      <th>TR.CO2EQUIVALENTEMISSIONSTOTALMARKETBASED|CO2 Equivalent Emissions Total Market-based</th>\n",
       "      <th>TR.CO2EMISSIONTOTAL|CO2 Equivalent Emissions Total</th>\n",
       "      <th>TR.CO2DIRECTSCOPE1|CO2 Equivalent Emissions Direct, Scope 1</th>\n",
       "      <th>TR.LTGHGEMISSIONPERCENTAGEREDUCTIONTARGETEDSET1|LT GHG Emission Percentage Reduction Targeted Set1</th>\n",
       "      <th>TR.LTPERCENTAGEOFGHGEMISSIONCOVEREDBYTARGETSET1|LT Percentage of GHG Emission Covered by Target Set1</th>\n",
       "      <th>TR.LTGHGEMISSIONSCOPESET1|LT GHG Emission Scope Set1</th>\n",
       "      <th>TR.LTGHGEMISSIONBASEYEARSET1|LT GHG Emission Base Year Set1</th>\n",
       "      <th>TR.LTGHGEMISSIONTARGETYEARSET1|LT GHG Emission Target Year Set1</th>\n",
       "    </tr>\n",
       "    <tr>\n",
       "      <th>Date</th>\n",
       "      <th></th>\n",
       "      <th></th>\n",
       "      <th></th>\n",
       "      <th></th>\n",
       "      <th></th>\n",
       "      <th></th>\n",
       "      <th></th>\n",
       "      <th></th>\n",
       "    </tr>\n",
       "  </thead>\n",
       "  <tbody>\n",
       "    <tr>\n",
       "      <th>2019-06-30</th>\n",
       "      <td>&lt;NA&gt;</td>\n",
       "      <td>&lt;NA&gt;</td>\n",
       "      <td>&lt;NA&gt;</td>\n",
       "      <td>75</td>\n",
       "      <td>100</td>\n",
       "      <td>Scope 1 and 2</td>\n",
       "      <td>2013</td>\n",
       "      <td>2045</td>\n",
       "    </tr>\n",
       "    <tr>\n",
       "      <th>2020-06-30</th>\n",
       "      <td>&lt;NA&gt;</td>\n",
       "      <td>4447016</td>\n",
       "      <td>118100</td>\n",
       "      <td>75</td>\n",
       "      <td>100</td>\n",
       "      <td>Scope 1 and 2</td>\n",
       "      <td>2013</td>\n",
       "      <td>2045</td>\n",
       "    </tr>\n",
       "    <tr>\n",
       "      <th>2020-06-30</th>\n",
       "      <td>574219</td>\n",
       "      <td>&lt;NA&gt;</td>\n",
       "      <td>&lt;NA&gt;</td>\n",
       "      <td>&lt;NA&gt;</td>\n",
       "      <td>&lt;NA&gt;</td>\n",
       "      <td></td>\n",
       "      <td>&lt;NA&gt;</td>\n",
       "      <td>&lt;NA&gt;</td>\n",
       "    </tr>\n",
       "    <tr>\n",
       "      <th>2021-06-30</th>\n",
       "      <td>553109</td>\n",
       "      <td>5134371</td>\n",
       "      <td>123704</td>\n",
       "      <td>75</td>\n",
       "      <td>100</td>\n",
       "      <td>Scope 1 and 2</td>\n",
       "      <td>2013</td>\n",
       "      <td>2045</td>\n",
       "    </tr>\n",
       "    <tr>\n",
       "      <th>2022-06-30</th>\n",
       "      <td>427442</td>\n",
       "      <td>6520663</td>\n",
       "      <td>139413</td>\n",
       "      <td>75</td>\n",
       "      <td>100</td>\n",
       "      <td>Scope 1 and 2</td>\n",
       "      <td>2013</td>\n",
       "      <td>2045</td>\n",
       "    </tr>\n",
       "  </tbody>\n",
       "</table>\n",
       "</div>"
      ],
      "text/plain": [
       "MSFT.O      TR.CO2EQUIVALENTEMISSIONSTOTALMARKETBASED|CO2 Equivalent Emissions Total Market-based  \\\n",
       "Date                                                                                                \n",
       "2019-06-30                                               <NA>                                       \n",
       "2020-06-30                                               <NA>                                       \n",
       "2020-06-30                                             574219                                       \n",
       "2021-06-30                                             553109                                       \n",
       "2022-06-30                                             427442                                       \n",
       "\n",
       "MSFT.O      TR.CO2EMISSIONTOTAL|CO2 Equivalent Emissions Total  \\\n",
       "Date                                                             \n",
       "2019-06-30                                               <NA>    \n",
       "2020-06-30                                            4447016    \n",
       "2020-06-30                                               <NA>    \n",
       "2021-06-30                                            5134371    \n",
       "2022-06-30                                            6520663    \n",
       "\n",
       "MSFT.O      TR.CO2DIRECTSCOPE1|CO2 Equivalent Emissions Direct, Scope 1  \\\n",
       "Date                                                                      \n",
       "2019-06-30                                               <NA>             \n",
       "2020-06-30                                             118100             \n",
       "2020-06-30                                               <NA>             \n",
       "2021-06-30                                             123704             \n",
       "2022-06-30                                             139413             \n",
       "\n",
       "MSFT.O      TR.LTGHGEMISSIONPERCENTAGEREDUCTIONTARGETEDSET1|LT GHG Emission Percentage Reduction Targeted Set1  \\\n",
       "Date                                                                                                             \n",
       "2019-06-30                                                 75                                                    \n",
       "2020-06-30                                                 75                                                    \n",
       "2020-06-30                                               <NA>                                                    \n",
       "2021-06-30                                                 75                                                    \n",
       "2022-06-30                                                 75                                                    \n",
       "\n",
       "MSFT.O      TR.LTPERCENTAGEOFGHGEMISSIONCOVEREDBYTARGETSET1|LT Percentage of GHG Emission Covered by Target Set1  \\\n",
       "Date                                                                                                               \n",
       "2019-06-30                                                100                                                      \n",
       "2020-06-30                                                100                                                      \n",
       "2020-06-30                                               <NA>                                                      \n",
       "2021-06-30                                                100                                                      \n",
       "2022-06-30                                                100                                                      \n",
       "\n",
       "MSFT.O     TR.LTGHGEMISSIONSCOPESET1|LT GHG Emission Scope Set1  \\\n",
       "Date                                                              \n",
       "2019-06-30                                      Scope 1 and 2     \n",
       "2020-06-30                                      Scope 1 and 2     \n",
       "2020-06-30                                                        \n",
       "2021-06-30                                      Scope 1 and 2     \n",
       "2022-06-30                                      Scope 1 and 2     \n",
       "\n",
       "MSFT.O      TR.LTGHGEMISSIONBASEYEARSET1|LT GHG Emission Base Year Set1  \\\n",
       "Date                                                                      \n",
       "2019-06-30                                               2013             \n",
       "2020-06-30                                               2013             \n",
       "2020-06-30                                               <NA>             \n",
       "2021-06-30                                               2013             \n",
       "2022-06-30                                               2013             \n",
       "\n",
       "MSFT.O      TR.LTGHGEMISSIONTARGETYEARSET1|LT GHG Emission Target Year Set1  \n",
       "Date                                                                         \n",
       "2019-06-30                                               2045                \n",
       "2020-06-30                                               2045                \n",
       "2020-06-30                                               <NA>                \n",
       "2021-06-30                                               2045                \n",
       "2022-06-30                                               2045                "
      ]
     },
     "execution_count": 57,
     "metadata": {},
     "output_type": "execute_result"
    }
   ],
   "source": [
    "df1 = df0[cols]\n",
    "df1.tail(5)"
   ]
  },
  {
   "cell_type": "code",
   "execution_count": 58,
   "metadata": {},
   "outputs": [
    {
     "data": {
      "text/html": [
       "<div>\n",
       "<style scoped>\n",
       "    .dataframe tbody tr th:only-of-type {\n",
       "        vertical-align: middle;\n",
       "    }\n",
       "\n",
       "    .dataframe tbody tr th {\n",
       "        vertical-align: top;\n",
       "    }\n",
       "\n",
       "    .dataframe thead th {\n",
       "        text-align: right;\n",
       "    }\n",
       "</style>\n",
       "<table border=\"1\" class=\"dataframe\">\n",
       "  <thead>\n",
       "    <tr style=\"text-align: right;\">\n",
       "      <th>MSFT.O</th>\n",
       "      <th>TR.CO2EQUIVALENTEMISSIONSTOTALMARKETBASED|CO2 Equivalent Emissions Total Market-based</th>\n",
       "      <th>TR.CO2EMISSIONTOTAL|CO2 Equivalent Emissions Total</th>\n",
       "      <th>TR.CO2DIRECTSCOPE1|CO2 Equivalent Emissions Direct, Scope 1</th>\n",
       "      <th>TR.LTGHGEMISSIONPERCENTAGEREDUCTIONTARGETEDSET1|LT GHG Emission Percentage Reduction Targeted Set1</th>\n",
       "      <th>TR.LTPERCENTAGEOFGHGEMISSIONCOVEREDBYTARGETSET1|LT Percentage of GHG Emission Covered by Target Set1</th>\n",
       "      <th>TR.LTGHGEMISSIONSCOPESET1|LT GHG Emission Scope Set1</th>\n",
       "      <th>TR.LTGHGEMISSIONBASEYEARSET1|LT GHG Emission Base Year Set1</th>\n",
       "      <th>TR.LTGHGEMISSIONTARGETYEARSET1|LT GHG Emission Target Year Set1</th>\n",
       "    </tr>\n",
       "    <tr>\n",
       "      <th>Date</th>\n",
       "      <th></th>\n",
       "      <th></th>\n",
       "      <th></th>\n",
       "      <th></th>\n",
       "      <th></th>\n",
       "      <th></th>\n",
       "      <th></th>\n",
       "      <th></th>\n",
       "    </tr>\n",
       "  </thead>\n",
       "  <tbody>\n",
       "    <tr>\n",
       "      <th>2020-06-30</th>\n",
       "      <td>574219</td>\n",
       "      <td>&lt;NA&gt;</td>\n",
       "      <td>&lt;NA&gt;</td>\n",
       "      <td>&lt;NA&gt;</td>\n",
       "      <td>&lt;NA&gt;</td>\n",
       "      <td>&lt;NA&gt;</td>\n",
       "      <td>&lt;NA&gt;</td>\n",
       "      <td>&lt;NA&gt;</td>\n",
       "    </tr>\n",
       "    <tr>\n",
       "      <th>2021-06-30</th>\n",
       "      <td>553109</td>\n",
       "      <td>5134371</td>\n",
       "      <td>123704</td>\n",
       "      <td>75</td>\n",
       "      <td>100</td>\n",
       "      <td>Scope 1 and 2</td>\n",
       "      <td>2013</td>\n",
       "      <td>2045</td>\n",
       "    </tr>\n",
       "    <tr>\n",
       "      <th>2022-06-30</th>\n",
       "      <td>427442</td>\n",
       "      <td>6520663</td>\n",
       "      <td>139413</td>\n",
       "      <td>75</td>\n",
       "      <td>100</td>\n",
       "      <td>Scope 1 and 2</td>\n",
       "      <td>2013</td>\n",
       "      <td>2045</td>\n",
       "    </tr>\n",
       "  </tbody>\n",
       "</table>\n",
       "</div>"
      ],
      "text/plain": [
       "MSFT.O      TR.CO2EQUIVALENTEMISSIONSTOTALMARKETBASED|CO2 Equivalent Emissions Total Market-based  \\\n",
       "Date                                                                                                \n",
       "2020-06-30                                             574219                                       \n",
       "2021-06-30                                             553109                                       \n",
       "2022-06-30                                             427442                                       \n",
       "\n",
       "MSFT.O      TR.CO2EMISSIONTOTAL|CO2 Equivalent Emissions Total  \\\n",
       "Date                                                             \n",
       "2020-06-30                                               <NA>    \n",
       "2021-06-30                                            5134371    \n",
       "2022-06-30                                            6520663    \n",
       "\n",
       "MSFT.O      TR.CO2DIRECTSCOPE1|CO2 Equivalent Emissions Direct, Scope 1  \\\n",
       "Date                                                                      \n",
       "2020-06-30                                               <NA>             \n",
       "2021-06-30                                             123704             \n",
       "2022-06-30                                             139413             \n",
       "\n",
       "MSFT.O      TR.LTGHGEMISSIONPERCENTAGEREDUCTIONTARGETEDSET1|LT GHG Emission Percentage Reduction Targeted Set1  \\\n",
       "Date                                                                                                             \n",
       "2020-06-30                                               <NA>                                                    \n",
       "2021-06-30                                                 75                                                    \n",
       "2022-06-30                                                 75                                                    \n",
       "\n",
       "MSFT.O      TR.LTPERCENTAGEOFGHGEMISSIONCOVEREDBYTARGETSET1|LT Percentage of GHG Emission Covered by Target Set1  \\\n",
       "Date                                                                                                               \n",
       "2020-06-30                                               <NA>                                                      \n",
       "2021-06-30                                                100                                                      \n",
       "2022-06-30                                                100                                                      \n",
       "\n",
       "MSFT.O     TR.LTGHGEMISSIONSCOPESET1|LT GHG Emission Scope Set1  \\\n",
       "Date                                                              \n",
       "2020-06-30                                               <NA>     \n",
       "2021-06-30                                      Scope 1 and 2     \n",
       "2022-06-30                                      Scope 1 and 2     \n",
       "\n",
       "MSFT.O      TR.LTGHGEMISSIONBASEYEARSET1|LT GHG Emission Base Year Set1  \\\n",
       "Date                                                                      \n",
       "2020-06-30                                               <NA>             \n",
       "2021-06-30                                               2013             \n",
       "2022-06-30                                               2013             \n",
       "\n",
       "MSFT.O      TR.LTGHGEMISSIONTARGETYEARSET1|LT GHG Emission Target Year Set1  \n",
       "Date                                                                         \n",
       "2020-06-30                                               <NA>                \n",
       "2021-06-30                                               2045                \n",
       "2022-06-30                                               2045                "
      ]
     },
     "execution_count": 58,
     "metadata": {},
     "output_type": "execute_result"
    }
   ],
   "source": [
    "df2 = df1.replace('', pd._libs.missing.NA)\n",
    "df3 = df2.dropna(how='all')\n",
    "df3.tail(3)"
   ]
  },
  {
   "cell_type": "code",
   "execution_count": 59,
   "metadata": {},
   "outputs": [
    {
     "name": "stdout",
     "output_type": "stream",
     "text": [
      "'GHGEmissionCoveredbyTarget' figures are above 80%. The higher this figure, the more reliable the results.\n",
      "In this case, we consider them to be high enough to be reliable.\n"
     ]
    }
   ],
   "source": [
    "df4 = df3.filter(like='PERCENTAGEOFGHGEMISSIONCOVEREDBYTARGETSET')\n",
    "if df4.apply(pd.to_numeric, errors='coerce').dropna().gt(80).all().all():\n",
    "    print(\"'GHGEmissionCoveredbyTarget' figures are above 80%. The higher this figure, the more reliable the results.\")\n",
    "    print(\"In this case, we consider them to be high enough to be reliable.\")\n",
    "else:\n",
    "    print(\"Be weary of the fact that 'GHGEmissionCoveredbyTarget' is below 80%. The lower this figure, the less reliable the results.\")"
   ]
  },
  {
   "cell_type": "markdown",
   "metadata": {},
   "source": [
    "## Plotting the results"
   ]
  },
  {
   "cell_type": "code",
   "execution_count": 60,
   "metadata": {},
   "outputs": [],
   "source": [
    "df5 = df3.copy()\n",
    "df5.index = [np.int64(z) for z in pd.to_datetime(df5.index, errors='coerce').year.astype(object)] # keep only the years"
   ]
  },
  {
   "cell_type": "code",
   "execution_count": 61,
   "metadata": {},
   "outputs": [
    {
     "name": "stdout",
     "output_type": "stream",
     "text": [
      "baseEmissionYear = 2013 & targetEmissionReductionYear = 2045\n",
      "baseEmission = 1355480 & targetReductionEmission = 1016610.0 & targetEmission = 338870.0\n"
     ]
    }
   ],
   "source": [
    "baseEmissionYear = int(df3.filter(like='GHGEMISSIONBASEYEARSET').iloc[-1].values[0])\n",
    "targetEmissionReductionYear = int(df3.filter(like='GHGEMISSIONTARGETYEARSET').iloc[-1].values[0])\n",
    "baseEmission = df3[df3.index.year == baseEmissionYear].filter(like='CO2EMISSIONTOTAL').values[0][0]\n",
    "targetReductionEmission = baseEmission * ((df3.filter(like='GHGEMISSIONPERCENTAGEREDUCTIONTARGETED').dropna().iloc[-1] / 100).iloc[0] * (df3.filter(like='PERCENTAGEOFGHGEMISSIONCOVEREDBYTARGET').dropna().iloc[-1] / 100).iloc[0])\n",
    "targetEmission = baseEmission - targetReductionEmission\n",
    "print(f\"baseEmissionYear = {baseEmissionYear} & targetEmissionReductionYear = {targetEmissionReductionYear}\")\n",
    "print(f\"baseEmission = {baseEmission} & targetReductionEmission = {targetReductionEmission} & targetEmission = {targetEmission}\")"
   ]
  },
  {
   "cell_type": "code",
   "execution_count": 62,
   "metadata": {},
   "outputs": [
    {
     "data": {
      "application/vnd.plotly.v1+json": {
       "config": {
        "plotlyServerURL": "https://plot.ly"
       },
       "data": [
        {
         "mode": "lines",
         "name": "Exponential Decay to target of 338870",
         "type": "scatter",
         "x": [
          2005,
          2006,
          2007,
          2008,
          2009,
          2010,
          2011,
          2012,
          2013,
          2014,
          2015,
          2016,
          2017,
          2018,
          2019,
          2019,
          2020,
          2020,
          2021,
          2022,
          2013,
          2014,
          2015,
          2016,
          2017,
          2018,
          2019,
          2020,
          2021,
          2022,
          2023,
          2024,
          2025,
          2026,
          2027,
          2028,
          2029,
          2030,
          2031,
          2032,
          2033,
          2034,
          2035,
          2036,
          2037,
          2038,
          2039,
          2040,
          2041,
          2042,
          2043,
          2044,
          2045
         ],
         "y": [
          null,
          null,
          null,
          null,
          null,
          null,
          null,
          null,
          null,
          null,
          null,
          null,
          null,
          null,
          null,
          null,
          null,
          null,
          null,
          null,
          1355480,
          1298012.0949213027,
          1242980.6404830678,
          1190282.3391714,
          1139818.272948105,
          1091493.7175752877,
          1045217.9648119779,
          1000904.1521490363,
          958469.0997627415,
          917833.1543810096,
          878920.0397691752,
          841656.713554683,
          805973.2301219441,
          771802.6093200003,
          739080.7107365518,
          707746.1133023555,
          677740,
          649006.0474606514,
          621490.3202415339,
          595141.1695857,
          569909.1364740524,
          545746.8587876438,
          522608.9824059889,
          500452.07607451815,
          479234.54988137074,
          458916.5771905048,
          439460.01988458773,
          420828.3567773415,
          402986.61506097217,
          385901.3046600001,
          369540.3553682759,
          353873.0566511777,
          338870
         ]
        },
        {
         "marker": {
          "color": "red",
          "size": 8
         },
         "mode": "lines+markers",
         "name": "CO2 Equivalents Emission Total",
         "type": "scatter",
         "x": [
          2005,
          2006,
          2007,
          2008,
          2009,
          2010,
          2011,
          2012,
          2013,
          2014,
          2015,
          2016,
          2017,
          2018,
          2019,
          2019,
          2020,
          2020,
          2021,
          2022,
          2013,
          2014,
          2015,
          2016,
          2017,
          2018,
          2019,
          2020,
          2021,
          2022,
          2023,
          2024,
          2025,
          2026,
          2027,
          2028,
          2029,
          2030,
          2031,
          2032,
          2033,
          2034,
          2035,
          2036,
          2037,
          2038,
          2039,
          2040,
          2041,
          2042,
          2043,
          2044,
          2045
         ],
         "y": [
          254915,
          152600,
          167580,
          1130000,
          845925,
          1077034,
          1191654,
          1227340,
          1355480,
          1735352,
          1791845,
          2233994,
          2805006,
          3045051,
          3675474,
          null,
          4447016,
          null,
          5134371,
          6520663,
          null,
          null,
          null,
          null,
          null,
          null,
          null,
          null,
          null,
          null,
          null,
          null,
          null,
          null,
          null,
          null,
          null,
          null,
          null,
          null,
          null,
          null,
          null,
          null,
          null,
          null,
          null,
          null,
          null,
          null,
          null,
          null,
          null
         ]
        },
        {
         "marker": {
          "color": "grey",
          "size": 8
         },
         "mode": "lines+markers",
         "name": "CO2 Equivalent Emissions Total Market-based",
         "type": "scatter",
         "x": [
          2005,
          2006,
          2007,
          2008,
          2009,
          2010,
          2011,
          2012,
          2013,
          2014,
          2015,
          2016,
          2017,
          2018,
          2019,
          2019,
          2020,
          2020,
          2021,
          2022,
          2013,
          2014,
          2015,
          2016,
          2017,
          2018,
          2019,
          2020,
          2021,
          2022,
          2023,
          2024,
          2025,
          2026,
          2027,
          2028,
          2029,
          2030,
          2031,
          2032,
          2033,
          2034,
          2035,
          2036,
          2037,
          2038,
          2039,
          2040,
          2041,
          2042,
          2043,
          2044,
          2045
         ],
         "y": [
          null,
          null,
          null,
          null,
          null,
          null,
          null,
          null,
          null,
          null,
          null,
          null,
          null,
          null,
          null,
          null,
          null,
          574219,
          553109,
          427442,
          null,
          null,
          null,
          null,
          null,
          null,
          null,
          null,
          null,
          null,
          null,
          null,
          null,
          null,
          null,
          null,
          null,
          null,
          null,
          null,
          null,
          null,
          null,
          null,
          null,
          null,
          null,
          null,
          null,
          null,
          null,
          null,
          null
         ]
        }
       ],
       "layout": {
        "autosize": true,
        "template": {
         "data": {
          "bar": [
           {
            "error_x": {
             "color": "#f2f5fa"
            },
            "error_y": {
             "color": "#f2f5fa"
            },
            "marker": {
             "line": {
              "color": "rgb(17,17,17)",
              "width": 0.5
             },
             "pattern": {
              "fillmode": "overlay",
              "size": 10,
              "solidity": 0.2
             }
            },
            "type": "bar"
           }
          ],
          "barpolar": [
           {
            "marker": {
             "line": {
              "color": "rgb(17,17,17)",
              "width": 0.5
             },
             "pattern": {
              "fillmode": "overlay",
              "size": 10,
              "solidity": 0.2
             }
            },
            "type": "barpolar"
           }
          ],
          "carpet": [
           {
            "aaxis": {
             "endlinecolor": "#A2B1C6",
             "gridcolor": "#506784",
             "linecolor": "#506784",
             "minorgridcolor": "#506784",
             "startlinecolor": "#A2B1C6"
            },
            "baxis": {
             "endlinecolor": "#A2B1C6",
             "gridcolor": "#506784",
             "linecolor": "#506784",
             "minorgridcolor": "#506784",
             "startlinecolor": "#A2B1C6"
            },
            "type": "carpet"
           }
          ],
          "choropleth": [
           {
            "colorbar": {
             "outlinewidth": 0,
             "ticks": ""
            },
            "type": "choropleth"
           }
          ],
          "contour": [
           {
            "colorbar": {
             "outlinewidth": 0,
             "ticks": ""
            },
            "colorscale": [
             [
              0,
              "#0d0887"
             ],
             [
              0.1111111111111111,
              "#46039f"
             ],
             [
              0.2222222222222222,
              "#7201a8"
             ],
             [
              0.3333333333333333,
              "#9c179e"
             ],
             [
              0.4444444444444444,
              "#bd3786"
             ],
             [
              0.5555555555555556,
              "#d8576b"
             ],
             [
              0.6666666666666666,
              "#ed7953"
             ],
             [
              0.7777777777777778,
              "#fb9f3a"
             ],
             [
              0.8888888888888888,
              "#fdca26"
             ],
             [
              1,
              "#f0f921"
             ]
            ],
            "type": "contour"
           }
          ],
          "contourcarpet": [
           {
            "colorbar": {
             "outlinewidth": 0,
             "ticks": ""
            },
            "type": "contourcarpet"
           }
          ],
          "heatmap": [
           {
            "colorbar": {
             "outlinewidth": 0,
             "ticks": ""
            },
            "colorscale": [
             [
              0,
              "#0d0887"
             ],
             [
              0.1111111111111111,
              "#46039f"
             ],
             [
              0.2222222222222222,
              "#7201a8"
             ],
             [
              0.3333333333333333,
              "#9c179e"
             ],
             [
              0.4444444444444444,
              "#bd3786"
             ],
             [
              0.5555555555555556,
              "#d8576b"
             ],
             [
              0.6666666666666666,
              "#ed7953"
             ],
             [
              0.7777777777777778,
              "#fb9f3a"
             ],
             [
              0.8888888888888888,
              "#fdca26"
             ],
             [
              1,
              "#f0f921"
             ]
            ],
            "type": "heatmap"
           }
          ],
          "heatmapgl": [
           {
            "colorbar": {
             "outlinewidth": 0,
             "ticks": ""
            },
            "colorscale": [
             [
              0,
              "#0d0887"
             ],
             [
              0.1111111111111111,
              "#46039f"
             ],
             [
              0.2222222222222222,
              "#7201a8"
             ],
             [
              0.3333333333333333,
              "#9c179e"
             ],
             [
              0.4444444444444444,
              "#bd3786"
             ],
             [
              0.5555555555555556,
              "#d8576b"
             ],
             [
              0.6666666666666666,
              "#ed7953"
             ],
             [
              0.7777777777777778,
              "#fb9f3a"
             ],
             [
              0.8888888888888888,
              "#fdca26"
             ],
             [
              1,
              "#f0f921"
             ]
            ],
            "type": "heatmapgl"
           }
          ],
          "histogram": [
           {
            "marker": {
             "pattern": {
              "fillmode": "overlay",
              "size": 10,
              "solidity": 0.2
             }
            },
            "type": "histogram"
           }
          ],
          "histogram2d": [
           {
            "colorbar": {
             "outlinewidth": 0,
             "ticks": ""
            },
            "colorscale": [
             [
              0,
              "#0d0887"
             ],
             [
              0.1111111111111111,
              "#46039f"
             ],
             [
              0.2222222222222222,
              "#7201a8"
             ],
             [
              0.3333333333333333,
              "#9c179e"
             ],
             [
              0.4444444444444444,
              "#bd3786"
             ],
             [
              0.5555555555555556,
              "#d8576b"
             ],
             [
              0.6666666666666666,
              "#ed7953"
             ],
             [
              0.7777777777777778,
              "#fb9f3a"
             ],
             [
              0.8888888888888888,
              "#fdca26"
             ],
             [
              1,
              "#f0f921"
             ]
            ],
            "type": "histogram2d"
           }
          ],
          "histogram2dcontour": [
           {
            "colorbar": {
             "outlinewidth": 0,
             "ticks": ""
            },
            "colorscale": [
             [
              0,
              "#0d0887"
             ],
             [
              0.1111111111111111,
              "#46039f"
             ],
             [
              0.2222222222222222,
              "#7201a8"
             ],
             [
              0.3333333333333333,
              "#9c179e"
             ],
             [
              0.4444444444444444,
              "#bd3786"
             ],
             [
              0.5555555555555556,
              "#d8576b"
             ],
             [
              0.6666666666666666,
              "#ed7953"
             ],
             [
              0.7777777777777778,
              "#fb9f3a"
             ],
             [
              0.8888888888888888,
              "#fdca26"
             ],
             [
              1,
              "#f0f921"
             ]
            ],
            "type": "histogram2dcontour"
           }
          ],
          "mesh3d": [
           {
            "colorbar": {
             "outlinewidth": 0,
             "ticks": ""
            },
            "type": "mesh3d"
           }
          ],
          "parcoords": [
           {
            "line": {
             "colorbar": {
              "outlinewidth": 0,
              "ticks": ""
             }
            },
            "type": "parcoords"
           }
          ],
          "pie": [
           {
            "automargin": true,
            "type": "pie"
           }
          ],
          "scatter": [
           {
            "marker": {
             "line": {
              "color": "#283442"
             }
            },
            "type": "scatter"
           }
          ],
          "scatter3d": [
           {
            "line": {
             "colorbar": {
              "outlinewidth": 0,
              "ticks": ""
             }
            },
            "marker": {
             "colorbar": {
              "outlinewidth": 0,
              "ticks": ""
             }
            },
            "type": "scatter3d"
           }
          ],
          "scattercarpet": [
           {
            "marker": {
             "colorbar": {
              "outlinewidth": 0,
              "ticks": ""
             }
            },
            "type": "scattercarpet"
           }
          ],
          "scattergeo": [
           {
            "marker": {
             "colorbar": {
              "outlinewidth": 0,
              "ticks": ""
             }
            },
            "type": "scattergeo"
           }
          ],
          "scattergl": [
           {
            "marker": {
             "line": {
              "color": "#283442"
             }
            },
            "type": "scattergl"
           }
          ],
          "scattermapbox": [
           {
            "marker": {
             "colorbar": {
              "outlinewidth": 0,
              "ticks": ""
             }
            },
            "type": "scattermapbox"
           }
          ],
          "scatterpolar": [
           {
            "marker": {
             "colorbar": {
              "outlinewidth": 0,
              "ticks": ""
             }
            },
            "type": "scatterpolar"
           }
          ],
          "scatterpolargl": [
           {
            "marker": {
             "colorbar": {
              "outlinewidth": 0,
              "ticks": ""
             }
            },
            "type": "scatterpolargl"
           }
          ],
          "scatterternary": [
           {
            "marker": {
             "colorbar": {
              "outlinewidth": 0,
              "ticks": ""
             }
            },
            "type": "scatterternary"
           }
          ],
          "surface": [
           {
            "colorbar": {
             "outlinewidth": 0,
             "ticks": ""
            },
            "colorscale": [
             [
              0,
              "#0d0887"
             ],
             [
              0.1111111111111111,
              "#46039f"
             ],
             [
              0.2222222222222222,
              "#7201a8"
             ],
             [
              0.3333333333333333,
              "#9c179e"
             ],
             [
              0.4444444444444444,
              "#bd3786"
             ],
             [
              0.5555555555555556,
              "#d8576b"
             ],
             [
              0.6666666666666666,
              "#ed7953"
             ],
             [
              0.7777777777777778,
              "#fb9f3a"
             ],
             [
              0.8888888888888888,
              "#fdca26"
             ],
             [
              1,
              "#f0f921"
             ]
            ],
            "type": "surface"
           }
          ],
          "table": [
           {
            "cells": {
             "fill": {
              "color": "#506784"
             },
             "line": {
              "color": "rgb(17,17,17)"
             }
            },
            "header": {
             "fill": {
              "color": "#2a3f5f"
             },
             "line": {
              "color": "rgb(17,17,17)"
             }
            },
            "type": "table"
           }
          ]
         },
         "layout": {
          "annotationdefaults": {
           "arrowcolor": "#f2f5fa",
           "arrowhead": 0,
           "arrowwidth": 1
          },
          "autotypenumbers": "strict",
          "coloraxis": {
           "colorbar": {
            "outlinewidth": 0,
            "ticks": ""
           }
          },
          "colorscale": {
           "diverging": [
            [
             0,
             "#8e0152"
            ],
            [
             0.1,
             "#c51b7d"
            ],
            [
             0.2,
             "#de77ae"
            ],
            [
             0.3,
             "#f1b6da"
            ],
            [
             0.4,
             "#fde0ef"
            ],
            [
             0.5,
             "#f7f7f7"
            ],
            [
             0.6,
             "#e6f5d0"
            ],
            [
             0.7,
             "#b8e186"
            ],
            [
             0.8,
             "#7fbc41"
            ],
            [
             0.9,
             "#4d9221"
            ],
            [
             1,
             "#276419"
            ]
           ],
           "sequential": [
            [
             0,
             "#0d0887"
            ],
            [
             0.1111111111111111,
             "#46039f"
            ],
            [
             0.2222222222222222,
             "#7201a8"
            ],
            [
             0.3333333333333333,
             "#9c179e"
            ],
            [
             0.4444444444444444,
             "#bd3786"
            ],
            [
             0.5555555555555556,
             "#d8576b"
            ],
            [
             0.6666666666666666,
             "#ed7953"
            ],
            [
             0.7777777777777778,
             "#fb9f3a"
            ],
            [
             0.8888888888888888,
             "#fdca26"
            ],
            [
             1,
             "#f0f921"
            ]
           ],
           "sequentialminus": [
            [
             0,
             "#0d0887"
            ],
            [
             0.1111111111111111,
             "#46039f"
            ],
            [
             0.2222222222222222,
             "#7201a8"
            ],
            [
             0.3333333333333333,
             "#9c179e"
            ],
            [
             0.4444444444444444,
             "#bd3786"
            ],
            [
             0.5555555555555556,
             "#d8576b"
            ],
            [
             0.6666666666666666,
             "#ed7953"
            ],
            [
             0.7777777777777778,
             "#fb9f3a"
            ],
            [
             0.8888888888888888,
             "#fdca26"
            ],
            [
             1,
             "#f0f921"
            ]
           ]
          },
          "colorway": [
           "#636efa",
           "#EF553B",
           "#00cc96",
           "#ab63fa",
           "#FFA15A",
           "#19d3f3",
           "#FF6692",
           "#B6E880",
           "#FF97FF",
           "#FECB52"
          ],
          "font": {
           "color": "#f2f5fa"
          },
          "geo": {
           "bgcolor": "rgb(17,17,17)",
           "lakecolor": "rgb(17,17,17)",
           "landcolor": "rgb(17,17,17)",
           "showlakes": true,
           "showland": true,
           "subunitcolor": "#506784"
          },
          "hoverlabel": {
           "align": "left"
          },
          "hovermode": "closest",
          "mapbox": {
           "style": "dark"
          },
          "paper_bgcolor": "rgb(17,17,17)",
          "plot_bgcolor": "rgb(17,17,17)",
          "polar": {
           "angularaxis": {
            "gridcolor": "#506784",
            "linecolor": "#506784",
            "ticks": ""
           },
           "bgcolor": "rgb(17,17,17)",
           "radialaxis": {
            "gridcolor": "#506784",
            "linecolor": "#506784",
            "ticks": ""
           }
          },
          "scene": {
           "xaxis": {
            "backgroundcolor": "rgb(17,17,17)",
            "gridcolor": "#506784",
            "gridwidth": 2,
            "linecolor": "#506784",
            "showbackground": true,
            "ticks": "",
            "zerolinecolor": "#C8D4E3"
           },
           "yaxis": {
            "backgroundcolor": "rgb(17,17,17)",
            "gridcolor": "#506784",
            "gridwidth": 2,
            "linecolor": "#506784",
            "showbackground": true,
            "ticks": "",
            "zerolinecolor": "#C8D4E3"
           },
           "zaxis": {
            "backgroundcolor": "rgb(17,17,17)",
            "gridcolor": "#506784",
            "gridwidth": 2,
            "linecolor": "#506784",
            "showbackground": true,
            "ticks": "",
            "zerolinecolor": "#C8D4E3"
           }
          },
          "shapedefaults": {
           "line": {
            "color": "#f2f5fa"
           }
          },
          "sliderdefaults": {
           "bgcolor": "#C8D4E3",
           "bordercolor": "rgb(17,17,17)",
           "borderwidth": 1,
           "tickwidth": 0
          },
          "ternary": {
           "aaxis": {
            "gridcolor": "#506784",
            "linecolor": "#506784",
            "ticks": ""
           },
           "baxis": {
            "gridcolor": "#506784",
            "linecolor": "#506784",
            "ticks": ""
           },
           "bgcolor": "rgb(17,17,17)",
           "caxis": {
            "gridcolor": "#506784",
            "linecolor": "#506784",
            "ticks": ""
           }
          },
          "title": {
           "x": 0.05
          },
          "updatemenudefaults": {
           "bgcolor": "#506784",
           "borderwidth": 0
          },
          "xaxis": {
           "automargin": true,
           "gridcolor": "#283442",
           "linecolor": "#506784",
           "ticks": "",
           "title": {
            "standoff": 15
           },
           "zerolinecolor": "#283442",
           "zerolinewidth": 2
          },
          "yaxis": {
           "automargin": true,
           "gridcolor": "#283442",
           "linecolor": "#506784",
           "ticks": "",
           "title": {
            "standoff": 15
           },
           "zerolinecolor": "#283442",
           "zerolinewidth": 2
          }
         }
        },
        "title": {
         "text": "MSFT.O GHG Emissions (Base in 2013 and Target in 2045) in CO2 Tons"
        },
        "xaxis": {
         "autorange": true,
         "range": [
          2002.48484049565,
          2047.51515950435
         ],
         "title": {
          "text": "Year"
         },
         "type": "linear"
        },
        "yaxis": {
         "autorange": true,
         "range": [
          -353018.7360515021,
          7026281.736051502
         ],
         "title": {
          "text": "CO2 Tons"
         },
         "type": "linear"
        }
       }
      }
     },
     "metadata": {},
     "output_type": "display_data"
    }
   ],
   "source": [
    "start_year = df3.T.filter(like=str(baseEmissionYear)).columns.values[0]\n",
    "end_year = np.datetime64(\n",
    "    f\"{targetEmissionReductionYear}-{str(start_year)[5:7]}-{str(start_year)[8:10]}\")\n",
    "\n",
    "start_year = np.datetime64(start_year, 'ns')\n",
    "end_year = np.datetime64(end_year, 'ns')\n",
    "start_value = baseEmission\n",
    "end_value = targetEmission\n",
    "\n",
    "# Calculate the decay constant 'k' for exponential decay\n",
    "# We use the formula for exponential decay: y(t) = y0 * exp(-k * (t - t0))\n",
    "# Solve for 'k' using y(t) at the end point\n",
    "# time_difference_years = (end_year - start_year).astype('timedelta64[Y]').astype(float)\n",
    "# k = -np.log(end_value / start_value) / time_difference_years\n",
    "\n",
    "if end_value / start_value == 0:\n",
    "    k = -np.log(0.01) / (int(str(end_year)[:4]) - int(str(start_year)[:4]))  # Use a small value instead of zero to avoid log(0) issue\n",
    "else:\n",
    "    k = -np.log(end_value / start_value) / ((end_year - start_year).astype('timedelta64[Y]').astype(float))\n",
    "\n",
    "# Generate years and corresponding values using exponential decay\n",
    "years = np.arange(\n",
    "    start_year.astype('datetime64[Y]').astype(int) + 1970,\n",
    "    end_year.astype('datetime64[Y]').astype(int) + 1971)\n",
    "values = start_value * np.exp(\n",
    "    -k * (years - (start_year.astype('datetime64[Y]').astype(int) + 1970)))\n",
    "\n",
    "decayDf = pd.DataFrame(data=values, index=years, columns=[f'Exponential Decay to target of {int(targetEmission)}'])\n",
    "df6 = pd.concat([df5, decayDf])\n",
    "\n",
    "# Create the plot\n",
    "fig = go.Figure()\n",
    "\n",
    "# Add the exponential decay line trace\n",
    "fig.add_trace(\n",
    "    go.Scatter(\n",
    "        x=df6.index, y=df6[f'Exponential Decay to target of {int(targetEmission)}'], mode='lines',\n",
    "        name=f'Exponential Decay to target of {int(targetEmission)}'))\n",
    "\n",
    "# Set plot title and labels\n",
    "fig.update_layout(\n",
    "    title=f\"{RIC} GHG Emissions (Base in {baseEmissionYear} and Target in {targetEmissionReductionYear}) in CO2 Tons\",\n",
    "    xaxis_title=\"Year\",\n",
    "    yaxis_title=\"CO2 Tons\",\n",
    "    template=\"plotly_dark\"  # Optional: You can use different templates, such as 'plotly', 'ggplot2', etc.\n",
    ")\n",
    "\n",
    "# Add the dots representing the actual CO2 data from df3\n",
    "fig.add_trace(go.Scatter(\n",
    "    x=df6.index, \n",
    "    y=df6[df6.filter(like=\"CO2EMISSIONTOTAL\").columns[0]],\n",
    "    mode='lines+markers', \n",
    "    name='CO2 Equivalents Emission Total',\n",
    "    marker=dict(color='red', size=8)  # Customize the dot color and size\n",
    "))\n",
    "\n",
    "fig.add_trace(go.Scatter(\n",
    "    x=df6.index, \n",
    "    y=df6[df6.filter(like=\"TR.CO2EQUIVALENTEMISSIONSTOTALMARKETBASED\").columns[0]],\n",
    "    mode='lines+markers', \n",
    "    name='CO2 Equivalent Emissions Total Market-based',\n",
    "    marker=dict(color='grey', size=8)  # Customize the dot color and size\n",
    "))\n",
    "\n",
    "# Show the plot\n",
    "fig.show()\n"
   ]
  },
  {
   "cell_type": "code",
   "execution_count": 63,
   "metadata": {},
   "outputs": [],
   "source": [
    "ld.close_session()"
   ]
  },
  {
   "cell_type": "markdown",
   "metadata": {},
   "source": [
    "## All together now"
   ]
  },
  {
   "cell_type": "code",
   "execution_count": 64,
   "metadata": {},
   "outputs": [],
   "source": [
    "import lseg.data as ld\n",
    "\n",
    "def GHGEmissionsBaseVsTargetUsingLSEGWorkspace(\n",
    "    RIC = \"MSFT.O\",\n",
    "    scope = \"1\", # choice between \"1\", \"2\", \"3\", \"1 and 2\" or \"1, 2 and 3\"\n",
    "    set = 1, # choice from 1 to 5\n",
    "    term = \"LT\", # choice between \"ST\" and \"LT\"\n",
    "    source = \"LSEG\", # choice between \"LSEG\" and \"CDP\"\n",
    "    suppressWarnings=True\n",
    "    ):\n",
    "\n",
    "    import warnings # This will be useful to warn users if the Scope they're after is not covered.\n",
    "    import re # We'll use the `re` library to seperate numbers from words in strings.\n",
    "    import pandas as pd # this library is great for dataframe manipulations.\n",
    "    import plotly.graph_objects as go # `plotly` and its modules are useful for us to plot graphs.\n",
    "    import numpy as np # `numpy` in this case will be useful for us to plot graphs.\n",
    "    from datetime import datetime # this is useful for us to collect data from LSEG up to today.\n",
    "    \n",
    "    # # # Calling and tidying our data\n",
    "    # For more information on the reason why we are collecting this data, please refer to the article \"LSEG's SFI Snowflake Datawarehouse: A use-case evaluating public companies' Climate track record using Python and SQL\". With that said, it will be evident, during the article, why we collected this data.\n",
    "    # First, let's put in place the primary parameters:\n",
    "\n",
    "    scopeOfInterest = scope\n",
    "    setOfInterest = set\n",
    "    termOfInterest = term\n",
    "    sourceOfInterest = source\n",
    "\n",
    "    # # We need extra parameters for the logic we'll create below, I define them here:\n",
    "\n",
    "    scopeOfInterestFirstNumber = int(re.search(r'\\d+', scopeOfInterest).group())\n",
    "\n",
    "    if termOfInterest == \"ST\":\n",
    "        termNotOfInterest = \"LT\"\n",
    "    else:\n",
    "        termNotOfInterest = \"ST\"\n",
    "\n",
    "    if sourceOfInterest == \"LSEG\":\n",
    "        _sourceOfInterest = \"\"\n",
    "        __sourceOfInterest = _sourceOfInterest\n",
    "    elif sourceOfInterest == \"CDP\":\n",
    "        _sourceOfInterest = sourceOfInterest\n",
    "        __sourceOfInterest = _sourceOfInterest + \" \"\n",
    "\n",
    "    # # Now, we can create the list of fields we're after from LSEG's services:\n",
    "\n",
    "    lstOfFlds = []\n",
    "\n",
    "    def testBaseYearData(RIC, testField, _sourceOfInterest, termOfInterest, setOfInterest):\n",
    "        dfTestBaseYear = ld.get_data(\n",
    "            universe=[RIC],\n",
    "            fields=[f\"TR.{_sourceOfInterest}{termOfInterest}GHGEmissionBaseYearSet{setOfInterest}\"])\n",
    "        valueTestBaseYear = dfTestBaseYear.values[0][1]\n",
    "        dfTestBaseYearData = ld.get_history(\n",
    "            universe=[RIC],\n",
    "            fields=[testField],\n",
    "            start=\"1990-01-01\",\n",
    "            end=datetime.now().strftime(\"%Y-%m-%d\"))\n",
    "        try:\n",
    "            valueTestBaseYearData = dfTestBaseYearData[\n",
    "                dfTestBaseYearData.index.year == int(valueTestBaseYear)].values[0][0]\n",
    "        except:\n",
    "            warnings.warn(\n",
    "                f\"No results returned for `ld.get_history(universe=['{RIC}'], fields=['{testField}'], start='{valueTestBaseYear}-01-01', end='{valueTestBaseYear}-12-31')`. This may be because `ld.get_data(universe=[{RIC}], fields=['TR.{_sourceOfInterest}{termOfInterest}GHGEmissionBaseYearSet{setOfInterest}'])` returned {str(dfTestBaseYearData)}\")\n",
    "        dfTestScope = ld.get_data(\n",
    "            universe=[RIC],\n",
    "            fields=[testField])\n",
    "        valueTestScope = dfTestScope.values[0][1]\n",
    "        return dfTestBaseYear, valueTestBaseYear, dfTestBaseYearData, valueTestBaseYearData, dfTestScope, valueTestScope\n",
    "\n",
    "    if scope == \"1\":\n",
    "        baseFieldOfInterest = f\"TR.{_sourceOfInterest}CO2DirectScope1\"\n",
    "        lstOfFlds.append(baseFieldOfInterest)\n",
    "        try:\n",
    "            dfTestBaseYear, valueTestBaseYear, dfTestBaseYearData, valueTestBaseYearData, dfTestScope, valueTestScope = testBaseYearData(\n",
    "            RIC=RIC, _sourceOfInterest=_sourceOfInterest, termOfInterest=termOfInterest, setOfInterest=setOfInterest, testField=baseFieldOfInterest)\n",
    "        except:\n",
    "            raise Exception(f\"No data for Scope {scopeOfInterest} is available for {RIC}, scope {scope}, set {set}, term {term}, source {source}.\")\n",
    "    \n",
    "    if scope == \"2\":\n",
    "        baseFieldOfInterest = f\"TR.{_sourceOfInterest}CO2IndirectScope2\"\n",
    "        lstOfFlds.append(baseFieldOfInterest)\n",
    "        try:\n",
    "            dfTestBaseYear, valueTestBaseYear, dfTestBaseYearData, valueTestBaseYearData, dfTestScope, valueTestScope = testBaseYearData(\n",
    "            RIC=RIC, _sourceOfInterest=_sourceOfInterest, termOfInterest=termOfInterest, setOfInterest=setOfInterest, testField=baseFieldOfInterest)\n",
    "        except:\n",
    "            raise Exception(f\"No data for Scope {scopeOfInterest} is available for {RIC}.\")\n",
    "\n",
    "    if scope == \"3\":\n",
    "        baseFieldOfInterest = f\"TR.{_sourceOfInterest}CO2IndirectScope3\"\n",
    "        lstOfFlds.append(baseFieldOfInterest)\n",
    "        try:\n",
    "            dfTestBaseYear, valueTestBaseYear, dfTestBaseYearData, valueTestBaseYearData, dfTestScope, valueTestScope = testBaseYearData(\n",
    "            RIC=RIC, _sourceOfInterest=_sourceOfInterest, termOfInterest=termOfInterest, setOfInterest=setOfInterest, testField=baseFieldOfInterest)\n",
    "        except:\n",
    "            raise Exception(f\"No data for Scope {scopeOfInterest} is available for {RIC}.\")\n",
    "\n",
    "    if scope == \"1 and 2\":\n",
    "        baseFieldOfInterest = f\"TR.{_sourceOfInterest}CO2EmissionTotal\"\n",
    "        lstOfFlds.append(baseFieldOfInterest)\n",
    "        marketBasedFieldOfInterest = f\"TR.{_sourceOfInterest}CO2EquivalentEmissionsTotalMarketbased\"\n",
    "        lstOfFlds.append(marketBasedFieldOfInterest)\n",
    "        try:\n",
    "            dfTestBaseYear, valueTestBaseYear, dfTestBaseYearData, valueTestBaseYearData, dfTestScope, valueTestScope = testBaseYearData(\n",
    "            RIC=RIC, _sourceOfInterest=_sourceOfInterest, termOfInterest=termOfInterest, setOfInterest=setOfInterest, testField=baseFieldOfInterest)\n",
    "        except:\n",
    "            raise Exception(f\"No data for Scope {scopeOfInterest} is available for {RIC}.\")\n",
    "\n",
    "    if scope == \"1, 2 and 3\":\n",
    "        baseFieldOfInterest = f\"TR.{_sourceOfInterest}TotalCO2EquivalentEmissionsScope1and2and3\"\n",
    "        lstOfFlds.append(baseFieldOfInterest)\n",
    "        marketBasedFieldOfInterest = f\"TR.{_sourceOfInterest}TotalCO2EquivalentEmissionScope1and2and3Marketbased\"\n",
    "        lstOfFlds.append(marketBasedFieldOfInterest)\n",
    "        try:\n",
    "            dfTestBaseYear, valueTestBaseYear, dfTestBaseYearData, valueTestBaseYearData, dfTestScope, valueTestScope = testBaseYearData(\n",
    "            RIC=RIC, _sourceOfInterest=_sourceOfInterest, termOfInterest=termOfInterest, setOfInterest=setOfInterest, testField=baseFieldOfInterest)\n",
    "        except:\n",
    "            raise Exception(f\"No data for Scope {scopeOfInterest} is available for {RIC}.\")\n",
    "\n",
    "    lstOfFlds.append(f\"TR.{_sourceOfInterest}{termOfInterest}GHGEmissionPercentageReductionTargetedSet{setOfInterest}\")\n",
    "    lstOfFlds.append(f\"TR.{_sourceOfInterest}{termOfInterest}PercentageofGHGEmissionCoveredbyTargetSet{setOfInterest}\")\n",
    "    lstOfFlds.append(f\"TR.{_sourceOfInterest}{termOfInterest}GHGEmissionScopeSet{setOfInterest}\")\n",
    "    lstOfFlds.append(f\"TR.{_sourceOfInterest}{termOfInterest}GHGEmissionBaseYearSet{setOfInterest}\")\n",
    "    lstOfFlds.append(f\"TR.{_sourceOfInterest}{termOfInterest}GHGEmissionTargetYearSet{setOfInterest}\")\n",
    "\n",
    "\n",
    "    if suppressWarnings:\n",
    "        warnings.simplefilter(action='ignore', category=FutureWarning)\n",
    "        warnings.simplefilter(action='ignore', category=UserWarning)\n",
    "\n",
    "    df1 = ld.get_history(\n",
    "        universe=[RIC],\n",
    "        fields=lstOfFlds,\n",
    "        start=\"1990-01-01\",\n",
    "        end=datetime.now().strftime(\"%Y-%m-%d\"),\n",
    "        header_type=ld.HeaderType.NAME_AND_TITLE,\n",
    "    ).dropna(how='all')\n",
    "\n",
    "    df2 = df1.replace('', pd._libs.missing.NA)\n",
    "    df3 = df2.dropna(how='all')\n",
    "\n",
    "    df4 = df3.filter(like='PERCENTAGEOFGHGEMISSIONCOVEREDBYTARGETSET')\n",
    "    if df4.apply(pd.to_numeric, errors='coerce').dropna().gt(80).all().all():\n",
    "        print(\"'GHGEmissionCoveredbyTarget' figures are above 80%. The higher this figure, the more reliable the results.\")\n",
    "        print(\"In this case, we consider them to be high enough to be reliable.\")\n",
    "    else:\n",
    "        print(\"Be weary of the fact that 'GHGEmissionCoveredbyTarget' is below 80%. The lower this figure, the less reliable the results.\")\n",
    "\n",
    "\n",
    "    # # # Plotting the results\n",
    "\n",
    "    df5 = df3.copy()\n",
    "    df5.index = [np.int64(z) for z in pd.to_datetime(df5.index, errors='coerce').year.astype(object)] # keep only the years\n",
    "\n",
    "    baseEmissionYear = valueTestBaseYear\n",
    "    targetEmissionReductionYear = int(df3.filter(like='GHGEMISSIONTARGETYEARSET').iloc[-1].values[0])\n",
    "    baseEmission = df3[df3.index.year == int(baseEmissionYear)].filter(like=baseFieldOfInterest.upper()).dropna().values[0][0]\n",
    "    targetReductionEmission = baseEmission * ((df3.filter(like='GHGEMISSIONPERCENTAGEREDUCTIONTARGETED').dropna().iloc[-1] / 100).iloc[0] * (df3.filter(like='PERCENTAGEOFGHGEMISSIONCOVEREDBYTARGET').dropna().iloc[-1] / 100).iloc[0])\n",
    "    targetEmission = baseEmission - targetReductionEmission\n",
    "    print(f\"baseEmissionYear = {baseEmissionYear} & targetEmissionReductionYear = {targetEmissionReductionYear}\")\n",
    "    print(f\"baseEmission = {baseEmission} & targetReductionEmission = {targetReductionEmission} & targetEmission = {targetEmission}\")\n",
    "\n",
    "    start_year = np.datetime64(\n",
    "        df3.T.filter(like=str(baseEmissionYear)).columns.values[0], 'ns')\n",
    "    end_year = np.datetime64(\n",
    "        f\"{targetEmissionReductionYear}-{str(start_year)[5:7]}-{str(start_year)[8:10]}\", 'ns')\n",
    "    start_value, end_value = baseEmission, targetEmission\n",
    "\n",
    "    # Calculate the decay constant 'k' for exponential decay\n",
    "    # We use the formula for exponential decay: y(t) = y0 * exp(-k * (t - t0))\n",
    "    # Solve for 'k' using y(t) at the end point\n",
    "    if end_value / start_value == 0:\n",
    "        k = -np.log(0.01) / (int(str(end_year)[:4]) - int(str(start_year)[:4]))  # Use a small value instead of zero to avoid log(0) issue\n",
    "    else:\n",
    "        k = -np.log(end_value / start_value) / ((end_year - start_year).astype('timedelta64[Y]').astype(float))\n",
    "\n",
    "    # Generate years and corresponding values using exponential decay\n",
    "    years = np.arange(\n",
    "        start_year.astype('datetime64[Y]').astype(int) + 1970,\n",
    "        end_year.astype('datetime64[Y]').astype(int) + 1971)\n",
    "    values = start_value * np.exp(\n",
    "        -k * (years - (start_year.astype('datetime64[Y]').astype(int) + 1970)))\n",
    "\n",
    "    decayDf = pd.DataFrame(data=values, index=years, columns=[f'Exponential Decay to target of {int(targetEmission)}'])\n",
    "    df6 = pd.concat([df5, decayDf])\n",
    "\n",
    "    # Create the plot\n",
    "    fig0 = go.Figure()\n",
    "\n",
    "    # Add the exponential decay line trace\n",
    "    fig0.add_trace(\n",
    "        go.Scatter(\n",
    "            x=df6.index,\n",
    "            y=df6[f'Exponential Decay to target of {int(targetEmission)}'],\n",
    "            mode='lines+markers',\n",
    "            name=f'Exponential Decay to target of {int(targetEmission)}'))\n",
    "\n",
    "    # Set plot title and labels\n",
    "    fig0.update_layout(\n",
    "        title=f\"{RIC} GHG Emissions scope {scope}, set {set}, term {term} & source {source} ({baseEmissionYear} Base & {targetEmissionReductionYear} Target)\",\n",
    "        xaxis_title=\"Year\",\n",
    "        yaxis_title=\"CO2 Tons\",\n",
    "        template=\"plotly_dark\"  # Optional: You can use different templates, such as 'plotly', 'ggplot2', etc.\n",
    "    )\n",
    "\n",
    "    # Add the dots representing the actual CO2 data from df3\n",
    "    fig0.add_trace(go.Scatter(\n",
    "        x=df6.index, \n",
    "        y=df6[df6.filter(like=baseFieldOfInterest.upper()).columns[0]],\n",
    "        mode='lines+markers', \n",
    "        name='CO2 Equivalents Emission Total',\n",
    "        marker=dict(color='grey', size=8)  # Customize the dot color and size\n",
    "    ))\n",
    "\n",
    "    if scope == \"1 and 2\" or scope == \"1, 2 and 3\":\n",
    "        fig0.add_trace(go.Scatter(\n",
    "            x=df6.index,\n",
    "            y=df6[df6.filter(like=f\"CO2EQUIVALENTEMISSIONSTOTALMARKETBASED\").columns[0]],\n",
    "            mode='lines+markers', \n",
    "            name='CO2 Equivalent Emissions Total Market-Based',\n",
    "            marker=dict(color='red', size=8)\n",
    "            ))\n",
    "\n",
    "    # Show the plot\n",
    "    fig0.show()\n",
    "\n",
    "    return df6"
   ]
  },
  {
   "cell_type": "code",
   "execution_count": 65,
   "metadata": {},
   "outputs": [
    {
     "name": "stdout",
     "output_type": "stream",
     "text": [
      "'GHGEmissionCoveredbyTarget' figures are above 80%. The higher this figure, the more reliable the results.\n",
      "In this case, we consider them to be high enough to be reliable.\n",
      "baseEmissionYear = 2016 & targetEmissionReductionYear = 2025\n",
      "baseEmission = 72000000 & targetReductionEmission = 6480000.0 & targetEmission = 65520000.0\n"
     ]
    },
    {
     "data": {
      "application/vnd.plotly.v1+json": {
       "config": {
        "plotlyServerURL": "https://plot.ly"
       },
       "data": [
        {
         "mode": "lines+markers",
         "name": "Exponential Decay to target of 65520000",
         "type": "scatter",
         "x": [
          2002,
          2003,
          2004,
          2005,
          2006,
          2007,
          2008,
          2009,
          2010,
          2011,
          2012,
          2013,
          2014,
          2015,
          2016,
          2017,
          2018,
          2019,
          2020,
          2021,
          2022,
          2023,
          2016,
          2017,
          2018,
          2019,
          2020,
          2021,
          2022,
          2023,
          2024,
          2025
         ],
         "y": [
          null,
          null,
          null,
          null,
          null,
          null,
          null,
          null,
          null,
          null,
          null,
          null,
          null,
          null,
          null,
          null,
          null,
          null,
          null,
          null,
          null,
          null,
          72000000,
          71156187.44074306,
          70322264.04308558,
          69498113.90982255,
          68683622.50202009,
          67878676.62309694,
          67083164.403092645,
          66296975.28312005,
          65520000,
          64752130.57107619
         ]
        },
        {
         "marker": {
          "color": "grey",
          "size": 8
         },
         "mode": "lines+markers",
         "name": "CO2 Equivalents Emission Total",
         "type": "scatter",
         "x": [
          2002,
          2003,
          2004,
          2005,
          2006,
          2007,
          2008,
          2009,
          2010,
          2011,
          2012,
          2013,
          2014,
          2015,
          2016,
          2017,
          2018,
          2019,
          2020,
          2021,
          2022,
          2023,
          2016,
          2017,
          2018,
          2019,
          2020,
          2021,
          2022,
          2023,
          2024,
          2025
         ],
         "y": [
          106000000,
          112000000,
          112000000,
          105000000,
          98000000,
          82000000,
          75000000,
          69000000,
          76000000,
          74000000,
          72000000,
          73000000,
          76000000,
          72000000,
          72000000,
          73000000,
          71000000,
          70000000,
          63000000,
          60000000,
          51000000,
          50000000,
          null,
          null,
          null,
          null,
          null,
          null,
          null,
          null,
          null,
          null
         ]
        }
       ],
       "layout": {
        "autosize": true,
        "template": {
         "data": {
          "bar": [
           {
            "error_x": {
             "color": "#f2f5fa"
            },
            "error_y": {
             "color": "#f2f5fa"
            },
            "marker": {
             "line": {
              "color": "rgb(17,17,17)",
              "width": 0.5
             },
             "pattern": {
              "fillmode": "overlay",
              "size": 10,
              "solidity": 0.2
             }
            },
            "type": "bar"
           }
          ],
          "barpolar": [
           {
            "marker": {
             "line": {
              "color": "rgb(17,17,17)",
              "width": 0.5
             },
             "pattern": {
              "fillmode": "overlay",
              "size": 10,
              "solidity": 0.2
             }
            },
            "type": "barpolar"
           }
          ],
          "carpet": [
           {
            "aaxis": {
             "endlinecolor": "#A2B1C6",
             "gridcolor": "#506784",
             "linecolor": "#506784",
             "minorgridcolor": "#506784",
             "startlinecolor": "#A2B1C6"
            },
            "baxis": {
             "endlinecolor": "#A2B1C6",
             "gridcolor": "#506784",
             "linecolor": "#506784",
             "minorgridcolor": "#506784",
             "startlinecolor": "#A2B1C6"
            },
            "type": "carpet"
           }
          ],
          "choropleth": [
           {
            "colorbar": {
             "outlinewidth": 0,
             "ticks": ""
            },
            "type": "choropleth"
           }
          ],
          "contour": [
           {
            "colorbar": {
             "outlinewidth": 0,
             "ticks": ""
            },
            "colorscale": [
             [
              0,
              "#0d0887"
             ],
             [
              0.1111111111111111,
              "#46039f"
             ],
             [
              0.2222222222222222,
              "#7201a8"
             ],
             [
              0.3333333333333333,
              "#9c179e"
             ],
             [
              0.4444444444444444,
              "#bd3786"
             ],
             [
              0.5555555555555556,
              "#d8576b"
             ],
             [
              0.6666666666666666,
              "#ed7953"
             ],
             [
              0.7777777777777778,
              "#fb9f3a"
             ],
             [
              0.8888888888888888,
              "#fdca26"
             ],
             [
              1,
              "#f0f921"
             ]
            ],
            "type": "contour"
           }
          ],
          "contourcarpet": [
           {
            "colorbar": {
             "outlinewidth": 0,
             "ticks": ""
            },
            "type": "contourcarpet"
           }
          ],
          "heatmap": [
           {
            "colorbar": {
             "outlinewidth": 0,
             "ticks": ""
            },
            "colorscale": [
             [
              0,
              "#0d0887"
             ],
             [
              0.1111111111111111,
              "#46039f"
             ],
             [
              0.2222222222222222,
              "#7201a8"
             ],
             [
              0.3333333333333333,
              "#9c179e"
             ],
             [
              0.4444444444444444,
              "#bd3786"
             ],
             [
              0.5555555555555556,
              "#d8576b"
             ],
             [
              0.6666666666666666,
              "#ed7953"
             ],
             [
              0.7777777777777778,
              "#fb9f3a"
             ],
             [
              0.8888888888888888,
              "#fdca26"
             ],
             [
              1,
              "#f0f921"
             ]
            ],
            "type": "heatmap"
           }
          ],
          "heatmapgl": [
           {
            "colorbar": {
             "outlinewidth": 0,
             "ticks": ""
            },
            "colorscale": [
             [
              0,
              "#0d0887"
             ],
             [
              0.1111111111111111,
              "#46039f"
             ],
             [
              0.2222222222222222,
              "#7201a8"
             ],
             [
              0.3333333333333333,
              "#9c179e"
             ],
             [
              0.4444444444444444,
              "#bd3786"
             ],
             [
              0.5555555555555556,
              "#d8576b"
             ],
             [
              0.6666666666666666,
              "#ed7953"
             ],
             [
              0.7777777777777778,
              "#fb9f3a"
             ],
             [
              0.8888888888888888,
              "#fdca26"
             ],
             [
              1,
              "#f0f921"
             ]
            ],
            "type": "heatmapgl"
           }
          ],
          "histogram": [
           {
            "marker": {
             "pattern": {
              "fillmode": "overlay",
              "size": 10,
              "solidity": 0.2
             }
            },
            "type": "histogram"
           }
          ],
          "histogram2d": [
           {
            "colorbar": {
             "outlinewidth": 0,
             "ticks": ""
            },
            "colorscale": [
             [
              0,
              "#0d0887"
             ],
             [
              0.1111111111111111,
              "#46039f"
             ],
             [
              0.2222222222222222,
              "#7201a8"
             ],
             [
              0.3333333333333333,
              "#9c179e"
             ],
             [
              0.4444444444444444,
              "#bd3786"
             ],
             [
              0.5555555555555556,
              "#d8576b"
             ],
             [
              0.6666666666666666,
              "#ed7953"
             ],
             [
              0.7777777777777778,
              "#fb9f3a"
             ],
             [
              0.8888888888888888,
              "#fdca26"
             ],
             [
              1,
              "#f0f921"
             ]
            ],
            "type": "histogram2d"
           }
          ],
          "histogram2dcontour": [
           {
            "colorbar": {
             "outlinewidth": 0,
             "ticks": ""
            },
            "colorscale": [
             [
              0,
              "#0d0887"
             ],
             [
              0.1111111111111111,
              "#46039f"
             ],
             [
              0.2222222222222222,
              "#7201a8"
             ],
             [
              0.3333333333333333,
              "#9c179e"
             ],
             [
              0.4444444444444444,
              "#bd3786"
             ],
             [
              0.5555555555555556,
              "#d8576b"
             ],
             [
              0.6666666666666666,
              "#ed7953"
             ],
             [
              0.7777777777777778,
              "#fb9f3a"
             ],
             [
              0.8888888888888888,
              "#fdca26"
             ],
             [
              1,
              "#f0f921"
             ]
            ],
            "type": "histogram2dcontour"
           }
          ],
          "mesh3d": [
           {
            "colorbar": {
             "outlinewidth": 0,
             "ticks": ""
            },
            "type": "mesh3d"
           }
          ],
          "parcoords": [
           {
            "line": {
             "colorbar": {
              "outlinewidth": 0,
              "ticks": ""
             }
            },
            "type": "parcoords"
           }
          ],
          "pie": [
           {
            "automargin": true,
            "type": "pie"
           }
          ],
          "scatter": [
           {
            "marker": {
             "line": {
              "color": "#283442"
             }
            },
            "type": "scatter"
           }
          ],
          "scatter3d": [
           {
            "line": {
             "colorbar": {
              "outlinewidth": 0,
              "ticks": ""
             }
            },
            "marker": {
             "colorbar": {
              "outlinewidth": 0,
              "ticks": ""
             }
            },
            "type": "scatter3d"
           }
          ],
          "scattercarpet": [
           {
            "marker": {
             "colorbar": {
              "outlinewidth": 0,
              "ticks": ""
             }
            },
            "type": "scattercarpet"
           }
          ],
          "scattergeo": [
           {
            "marker": {
             "colorbar": {
              "outlinewidth": 0,
              "ticks": ""
             }
            },
            "type": "scattergeo"
           }
          ],
          "scattergl": [
           {
            "marker": {
             "line": {
              "color": "#283442"
             }
            },
            "type": "scattergl"
           }
          ],
          "scattermapbox": [
           {
            "marker": {
             "colorbar": {
              "outlinewidth": 0,
              "ticks": ""
             }
            },
            "type": "scattermapbox"
           }
          ],
          "scatterpolar": [
           {
            "marker": {
             "colorbar": {
              "outlinewidth": 0,
              "ticks": ""
             }
            },
            "type": "scatterpolar"
           }
          ],
          "scatterpolargl": [
           {
            "marker": {
             "colorbar": {
              "outlinewidth": 0,
              "ticks": ""
             }
            },
            "type": "scatterpolargl"
           }
          ],
          "scatterternary": [
           {
            "marker": {
             "colorbar": {
              "outlinewidth": 0,
              "ticks": ""
             }
            },
            "type": "scatterternary"
           }
          ],
          "surface": [
           {
            "colorbar": {
             "outlinewidth": 0,
             "ticks": ""
            },
            "colorscale": [
             [
              0,
              "#0d0887"
             ],
             [
              0.1111111111111111,
              "#46039f"
             ],
             [
              0.2222222222222222,
              "#7201a8"
             ],
             [
              0.3333333333333333,
              "#9c179e"
             ],
             [
              0.4444444444444444,
              "#bd3786"
             ],
             [
              0.5555555555555556,
              "#d8576b"
             ],
             [
              0.6666666666666666,
              "#ed7953"
             ],
             [
              0.7777777777777778,
              "#fb9f3a"
             ],
             [
              0.8888888888888888,
              "#fdca26"
             ],
             [
              1,
              "#f0f921"
             ]
            ],
            "type": "surface"
           }
          ],
          "table": [
           {
            "cells": {
             "fill": {
              "color": "#506784"
             },
             "line": {
              "color": "rgb(17,17,17)"
             }
            },
            "header": {
             "fill": {
              "color": "#2a3f5f"
             },
             "line": {
              "color": "rgb(17,17,17)"
             }
            },
            "type": "table"
           }
          ]
         },
         "layout": {
          "annotationdefaults": {
           "arrowcolor": "#f2f5fa",
           "arrowhead": 0,
           "arrowwidth": 1
          },
          "autotypenumbers": "strict",
          "coloraxis": {
           "colorbar": {
            "outlinewidth": 0,
            "ticks": ""
           }
          },
          "colorscale": {
           "diverging": [
            [
             0,
             "#8e0152"
            ],
            [
             0.1,
             "#c51b7d"
            ],
            [
             0.2,
             "#de77ae"
            ],
            [
             0.3,
             "#f1b6da"
            ],
            [
             0.4,
             "#fde0ef"
            ],
            [
             0.5,
             "#f7f7f7"
            ],
            [
             0.6,
             "#e6f5d0"
            ],
            [
             0.7,
             "#b8e186"
            ],
            [
             0.8,
             "#7fbc41"
            ],
            [
             0.9,
             "#4d9221"
            ],
            [
             1,
             "#276419"
            ]
           ],
           "sequential": [
            [
             0,
             "#0d0887"
            ],
            [
             0.1111111111111111,
             "#46039f"
            ],
            [
             0.2222222222222222,
             "#7201a8"
            ],
            [
             0.3333333333333333,
             "#9c179e"
            ],
            [
             0.4444444444444444,
             "#bd3786"
            ],
            [
             0.5555555555555556,
             "#d8576b"
            ],
            [
             0.6666666666666666,
             "#ed7953"
            ],
            [
             0.7777777777777778,
             "#fb9f3a"
            ],
            [
             0.8888888888888888,
             "#fdca26"
            ],
            [
             1,
             "#f0f921"
            ]
           ],
           "sequentialminus": [
            [
             0,
             "#0d0887"
            ],
            [
             0.1111111111111111,
             "#46039f"
            ],
            [
             0.2222222222222222,
             "#7201a8"
            ],
            [
             0.3333333333333333,
             "#9c179e"
            ],
            [
             0.4444444444444444,
             "#bd3786"
            ],
            [
             0.5555555555555556,
             "#d8576b"
            ],
            [
             0.6666666666666666,
             "#ed7953"
            ],
            [
             0.7777777777777778,
             "#fb9f3a"
            ],
            [
             0.8888888888888888,
             "#fdca26"
            ],
            [
             1,
             "#f0f921"
            ]
           ]
          },
          "colorway": [
           "#636efa",
           "#EF553B",
           "#00cc96",
           "#ab63fa",
           "#FFA15A",
           "#19d3f3",
           "#FF6692",
           "#B6E880",
           "#FF97FF",
           "#FECB52"
          ],
          "font": {
           "color": "#f2f5fa"
          },
          "geo": {
           "bgcolor": "rgb(17,17,17)",
           "lakecolor": "rgb(17,17,17)",
           "landcolor": "rgb(17,17,17)",
           "showlakes": true,
           "showland": true,
           "subunitcolor": "#506784"
          },
          "hoverlabel": {
           "align": "left"
          },
          "hovermode": "closest",
          "mapbox": {
           "style": "dark"
          },
          "paper_bgcolor": "rgb(17,17,17)",
          "plot_bgcolor": "rgb(17,17,17)",
          "polar": {
           "angularaxis": {
            "gridcolor": "#506784",
            "linecolor": "#506784",
            "ticks": ""
           },
           "bgcolor": "rgb(17,17,17)",
           "radialaxis": {
            "gridcolor": "#506784",
            "linecolor": "#506784",
            "ticks": ""
           }
          },
          "scene": {
           "xaxis": {
            "backgroundcolor": "rgb(17,17,17)",
            "gridcolor": "#506784",
            "gridwidth": 2,
            "linecolor": "#506784",
            "showbackground": true,
            "ticks": "",
            "zerolinecolor": "#C8D4E3"
           },
           "yaxis": {
            "backgroundcolor": "rgb(17,17,17)",
            "gridcolor": "#506784",
            "gridwidth": 2,
            "linecolor": "#506784",
            "showbackground": true,
            "ticks": "",
            "zerolinecolor": "#C8D4E3"
           },
           "zaxis": {
            "backgroundcolor": "rgb(17,17,17)",
            "gridcolor": "#506784",
            "gridwidth": 2,
            "linecolor": "#506784",
            "showbackground": true,
            "ticks": "",
            "zerolinecolor": "#C8D4E3"
           }
          },
          "shapedefaults": {
           "line": {
            "color": "#f2f5fa"
           }
          },
          "sliderdefaults": {
           "bgcolor": "#C8D4E3",
           "bordercolor": "rgb(17,17,17)",
           "borderwidth": 1,
           "tickwidth": 0
          },
          "ternary": {
           "aaxis": {
            "gridcolor": "#506784",
            "linecolor": "#506784",
            "ticks": ""
           },
           "baxis": {
            "gridcolor": "#506784",
            "linecolor": "#506784",
            "ticks": ""
           },
           "bgcolor": "rgb(17,17,17)",
           "caxis": {
            "gridcolor": "#506784",
            "linecolor": "#506784",
            "ticks": ""
           }
          },
          "title": {
           "x": 0.05
          },
          "updatemenudefaults": {
           "bgcolor": "#506784",
           "borderwidth": 0
          },
          "xaxis": {
           "automargin": true,
           "gridcolor": "#283442",
           "linecolor": "#506784",
           "ticks": "",
           "title": {
            "standoff": 15
           },
           "zerolinecolor": "#283442",
           "zerolinewidth": 2
          },
          "yaxis": {
           "automargin": true,
           "gridcolor": "#283442",
           "linecolor": "#506784",
           "ticks": "",
           "title": {
            "standoff": 15
           },
           "zerolinecolor": "#283442",
           "zerolinewidth": 2
          }
         }
        },
        "title": {
         "text": "SHEL.L GHG Emissions scope 1, set 1, term ST & source LSEG (2016 Base & 2025 Target)"
        },
        "xaxis": {
         "autorange": true,
         "range": [
          2000.5586352579696,
          2026.4413647420304
         ],
         "title": {
          "text": "Year"
         },
         "type": "linear"
        },
        "yaxis": {
         "autorange": true,
         "range": [
          45077253.21888412,
          116922746.78111587
         ],
         "title": {
          "text": "CO2 Tons"
         },
         "type": "linear"
        }
       }
      }
     },
     "metadata": {},
     "output_type": "display_data"
    }
   ],
   "source": [
    "ld.open_session()\n",
    "df = GHGEmissionsBaseVsTargetUsingLSEGWorkspace(\n",
    "    RIC=\"SHEL.L\", # MSFT.O, AAPL.O, SHEL.L, LVMH.PA\n",
    "    scope=\"1\", # choice between \"1\", \"2\", \"3\", \"1 and 2\" or \"1, 2 and 3\"\n",
    "    set=1, # choice from 1 to 5\n",
    "    term=\"ST\", # choice between \"ST\" and \"LT\"\n",
    "    source=\"LSEG\") # choice between \"LSEG\" and \"CDP\"\n",
    "ld.close_session()"
   ]
  },
  {
   "cell_type": "code",
   "execution_count": 66,
   "metadata": {},
   "outputs": [
    {
     "data": {
      "text/html": [
       "<div>\n",
       "<style scoped>\n",
       "    .dataframe tbody tr th:only-of-type {\n",
       "        vertical-align: middle;\n",
       "    }\n",
       "\n",
       "    .dataframe tbody tr th {\n",
       "        vertical-align: top;\n",
       "    }\n",
       "\n",
       "    .dataframe thead th {\n",
       "        text-align: right;\n",
       "    }\n",
       "</style>\n",
       "<table border=\"1\" class=\"dataframe\">\n",
       "  <thead>\n",
       "    <tr style=\"text-align: right;\">\n",
       "      <th></th>\n",
       "      <th>TR.CO2DIRECTSCOPE1|CO2 Equivalent Emissions Direct, Scope 1</th>\n",
       "      <th>TR.STGHGEMISSIONPERCENTAGEREDUCTIONTARGETEDSET1|ST GHG Emission Percentage Reduction Targeted Set1</th>\n",
       "      <th>TR.STPERCENTAGEOFGHGEMISSIONCOVEREDBYTARGETSET1|ST Percentage of GHG Emission Covered by Target Set1</th>\n",
       "      <th>TR.STGHGEMISSIONSCOPESET1|ST GHG Emission Scope Set1</th>\n",
       "      <th>TR.STGHGEMISSIONBASEYEARSET1|ST GHG Emission Base Year Set1</th>\n",
       "      <th>TR.STGHGEMISSIONTARGETYEARSET1|ST GHG Emission Target Year Set1</th>\n",
       "      <th>Exponential Decay to target of 65520000</th>\n",
       "    </tr>\n",
       "  </thead>\n",
       "  <tbody>\n",
       "    <tr>\n",
       "      <th>2002</th>\n",
       "      <td>106000000</td>\n",
       "      <td>&lt;NA&gt;</td>\n",
       "      <td>&lt;NA&gt;</td>\n",
       "      <td>&lt;NA&gt;</td>\n",
       "      <td>&lt;NA&gt;</td>\n",
       "      <td>&lt;NA&gt;</td>\n",
       "      <td>NaN</td>\n",
       "    </tr>\n",
       "    <tr>\n",
       "      <th>2003</th>\n",
       "      <td>112000000</td>\n",
       "      <td>&lt;NA&gt;</td>\n",
       "      <td>&lt;NA&gt;</td>\n",
       "      <td>&lt;NA&gt;</td>\n",
       "      <td>&lt;NA&gt;</td>\n",
       "      <td>&lt;NA&gt;</td>\n",
       "      <td>NaN</td>\n",
       "    </tr>\n",
       "    <tr>\n",
       "      <th>2004</th>\n",
       "      <td>112000000</td>\n",
       "      <td>&lt;NA&gt;</td>\n",
       "      <td>&lt;NA&gt;</td>\n",
       "      <td>&lt;NA&gt;</td>\n",
       "      <td>&lt;NA&gt;</td>\n",
       "      <td>&lt;NA&gt;</td>\n",
       "      <td>NaN</td>\n",
       "    </tr>\n",
       "    <tr>\n",
       "      <th>2005</th>\n",
       "      <td>105000000</td>\n",
       "      <td>&lt;NA&gt;</td>\n",
       "      <td>&lt;NA&gt;</td>\n",
       "      <td>&lt;NA&gt;</td>\n",
       "      <td>&lt;NA&gt;</td>\n",
       "      <td>&lt;NA&gt;</td>\n",
       "      <td>NaN</td>\n",
       "    </tr>\n",
       "    <tr>\n",
       "      <th>2006</th>\n",
       "      <td>98000000</td>\n",
       "      <td>&lt;NA&gt;</td>\n",
       "      <td>&lt;NA&gt;</td>\n",
       "      <td>&lt;NA&gt;</td>\n",
       "      <td>&lt;NA&gt;</td>\n",
       "      <td>&lt;NA&gt;</td>\n",
       "      <td>NaN</td>\n",
       "    </tr>\n",
       "    <tr>\n",
       "      <th>2007</th>\n",
       "      <td>82000000</td>\n",
       "      <td>&lt;NA&gt;</td>\n",
       "      <td>&lt;NA&gt;</td>\n",
       "      <td>&lt;NA&gt;</td>\n",
       "      <td>&lt;NA&gt;</td>\n",
       "      <td>&lt;NA&gt;</td>\n",
       "      <td>NaN</td>\n",
       "    </tr>\n",
       "    <tr>\n",
       "      <th>2008</th>\n",
       "      <td>75000000</td>\n",
       "      <td>&lt;NA&gt;</td>\n",
       "      <td>&lt;NA&gt;</td>\n",
       "      <td>&lt;NA&gt;</td>\n",
       "      <td>&lt;NA&gt;</td>\n",
       "      <td>&lt;NA&gt;</td>\n",
       "      <td>NaN</td>\n",
       "    </tr>\n",
       "    <tr>\n",
       "      <th>2009</th>\n",
       "      <td>69000000</td>\n",
       "      <td>&lt;NA&gt;</td>\n",
       "      <td>&lt;NA&gt;</td>\n",
       "      <td>&lt;NA&gt;</td>\n",
       "      <td>&lt;NA&gt;</td>\n",
       "      <td>&lt;NA&gt;</td>\n",
       "      <td>NaN</td>\n",
       "    </tr>\n",
       "    <tr>\n",
       "      <th>2010</th>\n",
       "      <td>76000000</td>\n",
       "      <td>&lt;NA&gt;</td>\n",
       "      <td>&lt;NA&gt;</td>\n",
       "      <td>&lt;NA&gt;</td>\n",
       "      <td>&lt;NA&gt;</td>\n",
       "      <td>&lt;NA&gt;</td>\n",
       "      <td>NaN</td>\n",
       "    </tr>\n",
       "    <tr>\n",
       "      <th>2011</th>\n",
       "      <td>74000000</td>\n",
       "      <td>&lt;NA&gt;</td>\n",
       "      <td>&lt;NA&gt;</td>\n",
       "      <td>&lt;NA&gt;</td>\n",
       "      <td>&lt;NA&gt;</td>\n",
       "      <td>&lt;NA&gt;</td>\n",
       "      <td>NaN</td>\n",
       "    </tr>\n",
       "    <tr>\n",
       "      <th>2012</th>\n",
       "      <td>72000000</td>\n",
       "      <td>&lt;NA&gt;</td>\n",
       "      <td>&lt;NA&gt;</td>\n",
       "      <td>&lt;NA&gt;</td>\n",
       "      <td>&lt;NA&gt;</td>\n",
       "      <td>&lt;NA&gt;</td>\n",
       "      <td>NaN</td>\n",
       "    </tr>\n",
       "    <tr>\n",
       "      <th>2013</th>\n",
       "      <td>73000000</td>\n",
       "      <td>&lt;NA&gt;</td>\n",
       "      <td>&lt;NA&gt;</td>\n",
       "      <td>&lt;NA&gt;</td>\n",
       "      <td>&lt;NA&gt;</td>\n",
       "      <td>&lt;NA&gt;</td>\n",
       "      <td>NaN</td>\n",
       "    </tr>\n",
       "    <tr>\n",
       "      <th>2014</th>\n",
       "      <td>76000000</td>\n",
       "      <td>&lt;NA&gt;</td>\n",
       "      <td>&lt;NA&gt;</td>\n",
       "      <td>&lt;NA&gt;</td>\n",
       "      <td>&lt;NA&gt;</td>\n",
       "      <td>&lt;NA&gt;</td>\n",
       "      <td>NaN</td>\n",
       "    </tr>\n",
       "    <tr>\n",
       "      <th>2015</th>\n",
       "      <td>72000000</td>\n",
       "      <td>&lt;NA&gt;</td>\n",
       "      <td>&lt;NA&gt;</td>\n",
       "      <td>&lt;NA&gt;</td>\n",
       "      <td>&lt;NA&gt;</td>\n",
       "      <td>&lt;NA&gt;</td>\n",
       "      <td>NaN</td>\n",
       "    </tr>\n",
       "    <tr>\n",
       "      <th>2016</th>\n",
       "      <td>72000000</td>\n",
       "      <td>&lt;NA&gt;</td>\n",
       "      <td>&lt;NA&gt;</td>\n",
       "      <td>&lt;NA&gt;</td>\n",
       "      <td>&lt;NA&gt;</td>\n",
       "      <td>&lt;NA&gt;</td>\n",
       "      <td>NaN</td>\n",
       "    </tr>\n",
       "    <tr>\n",
       "      <th>2017</th>\n",
       "      <td>73000000</td>\n",
       "      <td>&lt;NA&gt;</td>\n",
       "      <td>&lt;NA&gt;</td>\n",
       "      <td>&lt;NA&gt;</td>\n",
       "      <td>&lt;NA&gt;</td>\n",
       "      <td>&lt;NA&gt;</td>\n",
       "      <td>NaN</td>\n",
       "    </tr>\n",
       "    <tr>\n",
       "      <th>2018</th>\n",
       "      <td>71000000</td>\n",
       "      <td>2</td>\n",
       "      <td>100</td>\n",
       "      <td>Scope 1 and 2 and 3</td>\n",
       "      <td>2016</td>\n",
       "      <td>2021</td>\n",
       "      <td>NaN</td>\n",
       "    </tr>\n",
       "    <tr>\n",
       "      <th>2019</th>\n",
       "      <td>70000000</td>\n",
       "      <td>2</td>\n",
       "      <td>100</td>\n",
       "      <td>Scope 1 and 2 and 3</td>\n",
       "      <td>2016</td>\n",
       "      <td>2021</td>\n",
       "      <td>NaN</td>\n",
       "    </tr>\n",
       "    <tr>\n",
       "      <th>2020</th>\n",
       "      <td>63000000</td>\n",
       "      <td>2</td>\n",
       "      <td>&lt;NA&gt;</td>\n",
       "      <td>Scope 1 and 2 and 3</td>\n",
       "      <td>2016</td>\n",
       "      <td>2021</td>\n",
       "      <td>NaN</td>\n",
       "    </tr>\n",
       "    <tr>\n",
       "      <th>2021</th>\n",
       "      <td>60000000</td>\n",
       "      <td>6</td>\n",
       "      <td>100</td>\n",
       "      <td>Scope 1 and 2 and 3</td>\n",
       "      <td>2016</td>\n",
       "      <td>2023</td>\n",
       "      <td>NaN</td>\n",
       "    </tr>\n",
       "    <tr>\n",
       "      <th>2022</th>\n",
       "      <td>51000000</td>\n",
       "      <td>9</td>\n",
       "      <td>100</td>\n",
       "      <td>Scope 1 and 2 and 3</td>\n",
       "      <td>2016</td>\n",
       "      <td>2025</td>\n",
       "      <td>NaN</td>\n",
       "    </tr>\n",
       "    <tr>\n",
       "      <th>2023</th>\n",
       "      <td>50000000</td>\n",
       "      <td>9</td>\n",
       "      <td>100</td>\n",
       "      <td>Scope 1 and 2 and 3</td>\n",
       "      <td>2016</td>\n",
       "      <td>2025</td>\n",
       "      <td>NaN</td>\n",
       "    </tr>\n",
       "    <tr>\n",
       "      <th>2016</th>\n",
       "      <td>&lt;NA&gt;</td>\n",
       "      <td>&lt;NA&gt;</td>\n",
       "      <td>&lt;NA&gt;</td>\n",
       "      <td>&lt;NA&gt;</td>\n",
       "      <td>&lt;NA&gt;</td>\n",
       "      <td>&lt;NA&gt;</td>\n",
       "      <td>7.200000e+07</td>\n",
       "    </tr>\n",
       "    <tr>\n",
       "      <th>2017</th>\n",
       "      <td>&lt;NA&gt;</td>\n",
       "      <td>&lt;NA&gt;</td>\n",
       "      <td>&lt;NA&gt;</td>\n",
       "      <td>&lt;NA&gt;</td>\n",
       "      <td>&lt;NA&gt;</td>\n",
       "      <td>&lt;NA&gt;</td>\n",
       "      <td>7.115619e+07</td>\n",
       "    </tr>\n",
       "    <tr>\n",
       "      <th>2018</th>\n",
       "      <td>&lt;NA&gt;</td>\n",
       "      <td>&lt;NA&gt;</td>\n",
       "      <td>&lt;NA&gt;</td>\n",
       "      <td>&lt;NA&gt;</td>\n",
       "      <td>&lt;NA&gt;</td>\n",
       "      <td>&lt;NA&gt;</td>\n",
       "      <td>7.032226e+07</td>\n",
       "    </tr>\n",
       "    <tr>\n",
       "      <th>2019</th>\n",
       "      <td>&lt;NA&gt;</td>\n",
       "      <td>&lt;NA&gt;</td>\n",
       "      <td>&lt;NA&gt;</td>\n",
       "      <td>&lt;NA&gt;</td>\n",
       "      <td>&lt;NA&gt;</td>\n",
       "      <td>&lt;NA&gt;</td>\n",
       "      <td>6.949811e+07</td>\n",
       "    </tr>\n",
       "    <tr>\n",
       "      <th>2020</th>\n",
       "      <td>&lt;NA&gt;</td>\n",
       "      <td>&lt;NA&gt;</td>\n",
       "      <td>&lt;NA&gt;</td>\n",
       "      <td>&lt;NA&gt;</td>\n",
       "      <td>&lt;NA&gt;</td>\n",
       "      <td>&lt;NA&gt;</td>\n",
       "      <td>6.868362e+07</td>\n",
       "    </tr>\n",
       "    <tr>\n",
       "      <th>2021</th>\n",
       "      <td>&lt;NA&gt;</td>\n",
       "      <td>&lt;NA&gt;</td>\n",
       "      <td>&lt;NA&gt;</td>\n",
       "      <td>&lt;NA&gt;</td>\n",
       "      <td>&lt;NA&gt;</td>\n",
       "      <td>&lt;NA&gt;</td>\n",
       "      <td>6.787868e+07</td>\n",
       "    </tr>\n",
       "    <tr>\n",
       "      <th>2022</th>\n",
       "      <td>&lt;NA&gt;</td>\n",
       "      <td>&lt;NA&gt;</td>\n",
       "      <td>&lt;NA&gt;</td>\n",
       "      <td>&lt;NA&gt;</td>\n",
       "      <td>&lt;NA&gt;</td>\n",
       "      <td>&lt;NA&gt;</td>\n",
       "      <td>6.708316e+07</td>\n",
       "    </tr>\n",
       "    <tr>\n",
       "      <th>2023</th>\n",
       "      <td>&lt;NA&gt;</td>\n",
       "      <td>&lt;NA&gt;</td>\n",
       "      <td>&lt;NA&gt;</td>\n",
       "      <td>&lt;NA&gt;</td>\n",
       "      <td>&lt;NA&gt;</td>\n",
       "      <td>&lt;NA&gt;</td>\n",
       "      <td>6.629698e+07</td>\n",
       "    </tr>\n",
       "    <tr>\n",
       "      <th>2024</th>\n",
       "      <td>&lt;NA&gt;</td>\n",
       "      <td>&lt;NA&gt;</td>\n",
       "      <td>&lt;NA&gt;</td>\n",
       "      <td>&lt;NA&gt;</td>\n",
       "      <td>&lt;NA&gt;</td>\n",
       "      <td>&lt;NA&gt;</td>\n",
       "      <td>6.552000e+07</td>\n",
       "    </tr>\n",
       "    <tr>\n",
       "      <th>2025</th>\n",
       "      <td>&lt;NA&gt;</td>\n",
       "      <td>&lt;NA&gt;</td>\n",
       "      <td>&lt;NA&gt;</td>\n",
       "      <td>&lt;NA&gt;</td>\n",
       "      <td>&lt;NA&gt;</td>\n",
       "      <td>&lt;NA&gt;</td>\n",
       "      <td>6.475213e+07</td>\n",
       "    </tr>\n",
       "  </tbody>\n",
       "</table>\n",
       "</div>"
      ],
      "text/plain": [
       "      TR.CO2DIRECTSCOPE1|CO2 Equivalent Emissions Direct, Scope 1  \\\n",
       "2002                                          106000000             \n",
       "2003                                          112000000             \n",
       "2004                                          112000000             \n",
       "2005                                          105000000             \n",
       "2006                                           98000000             \n",
       "2007                                           82000000             \n",
       "2008                                           75000000             \n",
       "2009                                           69000000             \n",
       "2010                                           76000000             \n",
       "2011                                           74000000             \n",
       "2012                                           72000000             \n",
       "2013                                           73000000             \n",
       "2014                                           76000000             \n",
       "2015                                           72000000             \n",
       "2016                                           72000000             \n",
       "2017                                           73000000             \n",
       "2018                                           71000000             \n",
       "2019                                           70000000             \n",
       "2020                                           63000000             \n",
       "2021                                           60000000             \n",
       "2022                                           51000000             \n",
       "2023                                           50000000             \n",
       "2016                                               <NA>             \n",
       "2017                                               <NA>             \n",
       "2018                                               <NA>             \n",
       "2019                                               <NA>             \n",
       "2020                                               <NA>             \n",
       "2021                                               <NA>             \n",
       "2022                                               <NA>             \n",
       "2023                                               <NA>             \n",
       "2024                                               <NA>             \n",
       "2025                                               <NA>             \n",
       "\n",
       "      TR.STGHGEMISSIONPERCENTAGEREDUCTIONTARGETEDSET1|ST GHG Emission Percentage Reduction Targeted Set1  \\\n",
       "2002                                               <NA>                                                    \n",
       "2003                                               <NA>                                                    \n",
       "2004                                               <NA>                                                    \n",
       "2005                                               <NA>                                                    \n",
       "2006                                               <NA>                                                    \n",
       "2007                                               <NA>                                                    \n",
       "2008                                               <NA>                                                    \n",
       "2009                                               <NA>                                                    \n",
       "2010                                               <NA>                                                    \n",
       "2011                                               <NA>                                                    \n",
       "2012                                               <NA>                                                    \n",
       "2013                                               <NA>                                                    \n",
       "2014                                               <NA>                                                    \n",
       "2015                                               <NA>                                                    \n",
       "2016                                               <NA>                                                    \n",
       "2017                                               <NA>                                                    \n",
       "2018                                                  2                                                    \n",
       "2019                                                  2                                                    \n",
       "2020                                                  2                                                    \n",
       "2021                                                  6                                                    \n",
       "2022                                                  9                                                    \n",
       "2023                                                  9                                                    \n",
       "2016                                               <NA>                                                    \n",
       "2017                                               <NA>                                                    \n",
       "2018                                               <NA>                                                    \n",
       "2019                                               <NA>                                                    \n",
       "2020                                               <NA>                                                    \n",
       "2021                                               <NA>                                                    \n",
       "2022                                               <NA>                                                    \n",
       "2023                                               <NA>                                                    \n",
       "2024                                               <NA>                                                    \n",
       "2025                                               <NA>                                                    \n",
       "\n",
       "      TR.STPERCENTAGEOFGHGEMISSIONCOVEREDBYTARGETSET1|ST Percentage of GHG Emission Covered by Target Set1  \\\n",
       "2002                                               <NA>                                                      \n",
       "2003                                               <NA>                                                      \n",
       "2004                                               <NA>                                                      \n",
       "2005                                               <NA>                                                      \n",
       "2006                                               <NA>                                                      \n",
       "2007                                               <NA>                                                      \n",
       "2008                                               <NA>                                                      \n",
       "2009                                               <NA>                                                      \n",
       "2010                                               <NA>                                                      \n",
       "2011                                               <NA>                                                      \n",
       "2012                                               <NA>                                                      \n",
       "2013                                               <NA>                                                      \n",
       "2014                                               <NA>                                                      \n",
       "2015                                               <NA>                                                      \n",
       "2016                                               <NA>                                                      \n",
       "2017                                               <NA>                                                      \n",
       "2018                                                100                                                      \n",
       "2019                                                100                                                      \n",
       "2020                                               <NA>                                                      \n",
       "2021                                                100                                                      \n",
       "2022                                                100                                                      \n",
       "2023                                                100                                                      \n",
       "2016                                               <NA>                                                      \n",
       "2017                                               <NA>                                                      \n",
       "2018                                               <NA>                                                      \n",
       "2019                                               <NA>                                                      \n",
       "2020                                               <NA>                                                      \n",
       "2021                                               <NA>                                                      \n",
       "2022                                               <NA>                                                      \n",
       "2023                                               <NA>                                                      \n",
       "2024                                               <NA>                                                      \n",
       "2025                                               <NA>                                                      \n",
       "\n",
       "     TR.STGHGEMISSIONSCOPESET1|ST GHG Emission Scope Set1  \\\n",
       "2002                                               <NA>     \n",
       "2003                                               <NA>     \n",
       "2004                                               <NA>     \n",
       "2005                                               <NA>     \n",
       "2006                                               <NA>     \n",
       "2007                                               <NA>     \n",
       "2008                                               <NA>     \n",
       "2009                                               <NA>     \n",
       "2010                                               <NA>     \n",
       "2011                                               <NA>     \n",
       "2012                                               <NA>     \n",
       "2013                                               <NA>     \n",
       "2014                                               <NA>     \n",
       "2015                                               <NA>     \n",
       "2016                                               <NA>     \n",
       "2017                                               <NA>     \n",
       "2018                                Scope 1 and 2 and 3     \n",
       "2019                                Scope 1 and 2 and 3     \n",
       "2020                                Scope 1 and 2 and 3     \n",
       "2021                                Scope 1 and 2 and 3     \n",
       "2022                                Scope 1 and 2 and 3     \n",
       "2023                                Scope 1 and 2 and 3     \n",
       "2016                                               <NA>     \n",
       "2017                                               <NA>     \n",
       "2018                                               <NA>     \n",
       "2019                                               <NA>     \n",
       "2020                                               <NA>     \n",
       "2021                                               <NA>     \n",
       "2022                                               <NA>     \n",
       "2023                                               <NA>     \n",
       "2024                                               <NA>     \n",
       "2025                                               <NA>     \n",
       "\n",
       "      TR.STGHGEMISSIONBASEYEARSET1|ST GHG Emission Base Year Set1  \\\n",
       "2002                                               <NA>             \n",
       "2003                                               <NA>             \n",
       "2004                                               <NA>             \n",
       "2005                                               <NA>             \n",
       "2006                                               <NA>             \n",
       "2007                                               <NA>             \n",
       "2008                                               <NA>             \n",
       "2009                                               <NA>             \n",
       "2010                                               <NA>             \n",
       "2011                                               <NA>             \n",
       "2012                                               <NA>             \n",
       "2013                                               <NA>             \n",
       "2014                                               <NA>             \n",
       "2015                                               <NA>             \n",
       "2016                                               <NA>             \n",
       "2017                                               <NA>             \n",
       "2018                                               2016             \n",
       "2019                                               2016             \n",
       "2020                                               2016             \n",
       "2021                                               2016             \n",
       "2022                                               2016             \n",
       "2023                                               2016             \n",
       "2016                                               <NA>             \n",
       "2017                                               <NA>             \n",
       "2018                                               <NA>             \n",
       "2019                                               <NA>             \n",
       "2020                                               <NA>             \n",
       "2021                                               <NA>             \n",
       "2022                                               <NA>             \n",
       "2023                                               <NA>             \n",
       "2024                                               <NA>             \n",
       "2025                                               <NA>             \n",
       "\n",
       "      TR.STGHGEMISSIONTARGETYEARSET1|ST GHG Emission Target Year Set1  \\\n",
       "2002                                               <NA>                 \n",
       "2003                                               <NA>                 \n",
       "2004                                               <NA>                 \n",
       "2005                                               <NA>                 \n",
       "2006                                               <NA>                 \n",
       "2007                                               <NA>                 \n",
       "2008                                               <NA>                 \n",
       "2009                                               <NA>                 \n",
       "2010                                               <NA>                 \n",
       "2011                                               <NA>                 \n",
       "2012                                               <NA>                 \n",
       "2013                                               <NA>                 \n",
       "2014                                               <NA>                 \n",
       "2015                                               <NA>                 \n",
       "2016                                               <NA>                 \n",
       "2017                                               <NA>                 \n",
       "2018                                               2021                 \n",
       "2019                                               2021                 \n",
       "2020                                               2021                 \n",
       "2021                                               2023                 \n",
       "2022                                               2025                 \n",
       "2023                                               2025                 \n",
       "2016                                               <NA>                 \n",
       "2017                                               <NA>                 \n",
       "2018                                               <NA>                 \n",
       "2019                                               <NA>                 \n",
       "2020                                               <NA>                 \n",
       "2021                                               <NA>                 \n",
       "2022                                               <NA>                 \n",
       "2023                                               <NA>                 \n",
       "2024                                               <NA>                 \n",
       "2025                                               <NA>                 \n",
       "\n",
       "      Exponential Decay to target of 65520000  \n",
       "2002                                      NaN  \n",
       "2003                                      NaN  \n",
       "2004                                      NaN  \n",
       "2005                                      NaN  \n",
       "2006                                      NaN  \n",
       "2007                                      NaN  \n",
       "2008                                      NaN  \n",
       "2009                                      NaN  \n",
       "2010                                      NaN  \n",
       "2011                                      NaN  \n",
       "2012                                      NaN  \n",
       "2013                                      NaN  \n",
       "2014                                      NaN  \n",
       "2015                                      NaN  \n",
       "2016                                      NaN  \n",
       "2017                                      NaN  \n",
       "2018                                      NaN  \n",
       "2019                                      NaN  \n",
       "2020                                      NaN  \n",
       "2021                                      NaN  \n",
       "2022                                      NaN  \n",
       "2023                                      NaN  \n",
       "2016                             7.200000e+07  \n",
       "2017                             7.115619e+07  \n",
       "2018                             7.032226e+07  \n",
       "2019                             6.949811e+07  \n",
       "2020                             6.868362e+07  \n",
       "2021                             6.787868e+07  \n",
       "2022                             6.708316e+07  \n",
       "2023                             6.629698e+07  \n",
       "2024                             6.552000e+07  \n",
       "2025                             6.475213e+07  "
      ]
     },
     "execution_count": 66,
     "metadata": {},
     "output_type": "execute_result"
    }
   ],
   "source": [
    "df"
   ]
  },
  {
   "cell_type": "markdown",
   "metadata": {},
   "source": [
    "# Conclusion\n",
    "\n",
    "As you can see, it is rather simple to make a target vs. actual emissions graph using both Snowflake and, in this case, Workspace/CodeBook!\n",
    "\n",
    "Please note that this is not production code and is not to be used in production for investment tools, or used in investment decisions. It is only shown/published for educational purposes."
   ]
  },
  {
   "cell_type": "markdown",
   "metadata": {},
   "source": []
  }
 ],
 "metadata": {
  "kernelspec": {
   "display_name": "Python 3 (ipykernel)",
   "language": "python",
   "name": "python3"
  },
  "language_info": {
   "codemirror_mode": {
    "name": "ipython",
    "version": 3
   },
   "file_extension": ".py",
   "mimetype": "text/x-python",
   "name": "python",
   "nbconvert_exporter": "python",
   "pygments_lexer": "ipython3",
   "version": "3.8.2"
  }
 },
 "nbformat": 4,
 "nbformat_minor": 4
}
