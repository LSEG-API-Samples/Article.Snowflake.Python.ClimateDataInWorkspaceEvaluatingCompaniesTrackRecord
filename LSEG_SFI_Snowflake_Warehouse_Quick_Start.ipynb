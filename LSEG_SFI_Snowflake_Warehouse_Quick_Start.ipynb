{
 "cells": [
  {
   "cell_type": "markdown",
   "metadata": {},
   "source": [
    "# LSEG's SFI Snowflake Datawarehouse: Quick Start\n",
    "\n",
    "In this Quick Start article, we will investigate Public Companies' Climate Data on Snowflake. If you are interested in a more in-depth use-case, please read the \"LSEG's SFI Snowflake Datawarehouse: A use-case evaluating public companies' Climate track record using Python and SQL\" article that investigates the targets and whether they are on track to meet them; all while using data on LSEG's Sustainable Finance Investing (SFI) Snowflake.\n",
    "\n",
    "LSEG collects data from a range of sources; for climate data, we rely on our analysts to retrieve the information directly from companies disclosures. The most exciting data onboarded has, recently, related to ESG and Climate topics. From popular demand, we distribute Sustainable Finance and Investing (SFI) data via the Datawarehouse known as [Snowflake](https://docs.snowflake.com/). SFI Snowflake can be accessed via [Snowflake's online platform](https://app.snowflake.com/) or simply using Python via Snowflake's API wrapper named [Snowpark](https://docs.snowflake.com/en/developer-guide/snowpark/python/index). Datasets available include ESG, Climate, EU Taxonomy and Green Revenues data. Snowflake's API is a [REST API](https://blog.postman.com/rest-api-examples/), just like LSEG's Data Platform; similarly, Snowflake created a module to wrap their API into the Python (as well as Scala and Java) module `snowpark` (in their Python library `snowflake`), just as we wrapped LSEG's Data Platform REST API into [LSEG's Data Library](https://developers.lseg.com/en/api-catalog/lseg-data-platform/lseg-data-library-for-python) for Python. In this Quick Start, we will look into the Snowflake workflow up to 'Python Worksheets'; in total, there will be three topics: (i) Snowflake's Snowpark Python library, (ii) Snowflake SQL Worksheets and (iii) Snowflake Python Worksheets.\n",
    "\n",
    "For more information on the data available on LSEG's SFI Snowflake, please look into [myaccount.lseg.com/en/product/quantitative-analytics](https://myaccount.lseg.com/en/product/quantitative-analytics). Here you will find all the related documentation necessary to understand the data-model we are tapping. Please be aware, while reading this documentation, that the SFI datasets are surfaced via the QA Quantitative Analytics (QA) product; LSEG collates several sets of data in tables in QA; some are packaged commercially-speaking under the name of 'Datastream', others under the name 'Worldscope', among these many packages, we are only interested in 'SFI' which is easy to access using Snowflake. When logging into [myaccount.lseg.com/en/product/quantitative-analytics](https://myaccount.lseg.com/en/product/quantitative-analytics), you can access PDF documentation files:"
   ]
  },
  {
   "cell_type": "markdown",
   "metadata": {},
   "source": [
    "![Image](./Docs/myaccount.lseg.com.quantitative-analytics.png)"
   ]
  },
  {
   "cell_type": "markdown",
   "metadata": {},
   "source": [
    "Personally, I'm a fan of accessing such information programmatically. In this article, I'll take you through how one can do just that."
   ]
  },
  {
   "cell_type": "markdown",
   "metadata": {},
   "source": [
    "## Snowflake's Snowpark Python library\n",
    "\n",
    "We first need to import the `snowflake-snowpark-python` library. This library allows us to connect to Snowflake's services without having to deal with things like authentication  tokens ourselves:"
   ]
  },
  {
   "cell_type": "code",
   "execution_count": null,
   "metadata": {},
   "outputs": [],
   "source": [
    "## pip install snowflake-snowpark-python\n",
    "## pip install \"snowflake-connector-python[pandas]\"\n",
    "from snowflake import snowpark\n",
    "import pandas as pd\n",
    "import os # This is a native library that will allow us to collect authentication  details from the machine where we're running our code.\n",
    "import plotly.graph_objects as go # `plotly` and its modules are useful for us to plot graphs\n",
    "import numpy as np # `numpy` in this case will be useful for us to plot graphs"
   ]
  },
  {
   "cell_type": "markdown",
   "metadata": {},
   "source": [
    "In the cell below, we create the global variable `g_db_session` in which we will insert our authentication  details. This will enable us to invoke it like an object that we can use to access SFI data. To \"insert our authentication  details\", we will create the `get_session` function:"
   ]
  },
  {
   "cell_type": "code",
   "execution_count": 3,
   "metadata": {},
   "outputs": [],
   "source": [
    "# Global variable\n",
    "g_db_session = None\n",
    "\n",
    "def get_session(user, password):\n",
    "    global g_db_session\n",
    "    \n",
    "    # Establish a connection and assign it to the global session variable\n",
    "    connection_parameters = { \n",
    "        \"account\": \"rddpreprod1.east-us-2.azure\",\n",
    "        \"user\": user,\n",
    "        \"password\": password,\n",
    "        \"warehouse\": \"SFI_READER_S_WH\", \n",
    "        \"database\": \"SHAREDB_SFI_MVP\",\n",
    "        \"role\": \"SNO_SNOREFDBD_SFI_READER_ROLE\",\n",
    "        \"schema\": \"DBO\",\n",
    "        \"authenticator\": \"externalbrowser\"\n",
    "    }\n",
    "    \n",
    "    g_db_session = snowpark.Session.builder.configs(connection_parameters).create() "
   ]
  },
  {
   "cell_type": "markdown",
   "metadata": {},
   "source": [
    "Let's pick an Organisation's Permanent IDentifier (OrgPermID) at random for now:"
   ]
  },
  {
   "cell_type": "code",
   "execution_count": 4,
   "metadata": {},
   "outputs": [],
   "source": [
    "OrgPermID = \"4295875633\""
   ]
  },
  {
   "cell_type": "markdown",
   "metadata": {},
   "source": [
    "Note that we don't want to show our passwords, or enter it anywhere viewable to anyone reading our code. Therefore, instead of entering our password in a string, we'll create a session in the global `g_db_session` object that opens a browser window where you can enter your credentials and log into Snowflake using your password:"
   ]
  },
  {
   "cell_type": "code",
   "execution_count": 5,
   "metadata": {},
   "outputs": [
    {
     "name": "stdout",
     "output_type": "stream",
     "text": [
      "Initiating login request with your identity provider. A browser window should have opened for you to complete the login. If you can't see it, check existing browser windows, or your OS settings. Press CTRL+C to abort and try again...\n",
      "Going to open: https://login.microsoftonline.com/287e9f0e-91ec-4cf0-b7a4-c63898072181/saml2?SAMLRequest=nZJLc9sgFIX%2FioauJQHW2BJjO%2BNEdqtOYrt%2BdZIdlpDDBIEKKIr%2FfZAfnXSRLLpj4Nz7He65w5u3SnivTBuu5AigAAKPyVwVXB5GYLuZ%2BTHwjKWyoEJJNgJHZsDNeGhoJWoyaeyzXLE%2FDTPWc42kId3DCDRaEkUNN0TSihlic7KePNwTHEBCjWHaOhy4lBSGO9aztTUJw7Ztg7YXKH0IMYQwhEnoVJ3kG%2FiAqL9m1FpZlStxLXlzf%2FoEgUIYdQincITlpfCWy%2FMIvqLszyJDfmw2S3%2B5WG%2BAN7n%2B7k5J01RMr5l%2B5Tnbru7PBoxzIAw7%2BOv5YjWdpbfp5Gk73aXTXWCkaktBX1iuqrqxrnXgTmHJilCoA3cDy9IRqF94ke1XBzuYfVdRkaVxO0P9JDE%2FIe418aKZ95a%2Fxa%2FpIzomD49ZDrzdNV7cxZsZ07BMdqFadwVx5CPsw2SDIMERQTDo9%2FET8FIXKpfUnir%2FOu98BBXPtTKqtEoKLtnJJY4HLCkh8xPEcj%2FKS%2BjvBzTy834vTmI4wChGYRcdBuf1IScjevxfQxmGH1tc1nHuEsrSpRI8P3ozpStqPw8QBeh0wwu%2FPEkJqygXk6LQzBgXpBCqvdOMWrf1VjcMhOMz9d%2B9H78D&RelayState=ver%3A1-hint%3A374134621093914-ETMsDgAAAZOq8qumABRBRVMvQ0JDL1BLQ1M1UGFkZGluZwEAABAAEEHAkbm58J1NREItpCrmGukAAACQOkp0cwOgAyzJCNr6GNRstKZ8omYHC%2Fibo9WLyUNEzziCEGHLtxqPW5fn4YpHckmsbs0G4YTYk3%2F3IB5t9IdFBk0ZMFXEaKdotOM94ScSalv714MEXfcQ1vTyVbhNqI7Kw51qSq7cOWtUBeU87x1xlEbNXh6fLo4Io%2FNlIVIMQ%2BvyVe%2BV%2BEMXCK6VoIMPDr3mABST5Vy3jqcgrwzRmBU47JgyA3R3yA%3D%3D to authenticate...\n"
     ]
    }
   ],
   "source": [
    "get_session(\"jonathan.legrand@lseg.com\", os.getenv('SSO_PASSWD'))"
   ]
  },
  {
   "cell_type": "markdown",
   "metadata": {},
   "source": [
    "Now we can send out SQL query:"
   ]
  },
  {
   "cell_type": "code",
   "execution_count": 6,
   "metadata": {},
   "outputs": [
    {
     "data": {
      "text/html": [
       "<div>\n",
       "<style scoped>\n",
       "    .dataframe tbody tr th:only-of-type {\n",
       "        vertical-align: middle;\n",
       "    }\n",
       "\n",
       "    .dataframe tbody tr th {\n",
       "        vertical-align: top;\n",
       "    }\n",
       "\n",
       "    .dataframe thead th {\n",
       "        text-align: right;\n",
       "    }\n",
       "</style>\n",
       "<table border=\"1\" class=\"dataframe\">\n",
       "  <thead>\n",
       "    <tr style=\"text-align: right;\">\n",
       "      <th></th>\n",
       "      <th>FY</th>\n",
       "      <th>SCORECALCDT</th>\n",
       "      <th>SCORE</th>\n",
       "      <th>TITLE</th>\n",
       "    </tr>\n",
       "  </thead>\n",
       "  <tbody>\n",
       "    <tr>\n",
       "      <th>0</th>\n",
       "      <td>2008</td>\n",
       "      <td>2022-08-03 10:12:43.353</td>\n",
       "      <td>0.950658</td>\n",
       "      <td>Workforce Score</td>\n",
       "    </tr>\n",
       "    <tr>\n",
       "      <th>1</th>\n",
       "      <td>2008</td>\n",
       "      <td>2022-08-03 10:12:43.353</td>\n",
       "      <td>0.900794</td>\n",
       "      <td>Emissions Score</td>\n",
       "    </tr>\n",
       "    <tr>\n",
       "      <th>2</th>\n",
       "      <td>2008</td>\n",
       "      <td>2022-08-03 10:12:43.353</td>\n",
       "      <td>0.977876</td>\n",
       "      <td>Resource Use Score</td>\n",
       "    </tr>\n",
       "    <tr>\n",
       "      <th>3</th>\n",
       "      <td>2008</td>\n",
       "      <td>2020-12-07 08:49:58.147</td>\n",
       "      <td>0.885417</td>\n",
       "      <td>Management Score</td>\n",
       "    </tr>\n",
       "    <tr>\n",
       "      <th>4</th>\n",
       "      <td>2008</td>\n",
       "      <td>2022-08-03 10:12:43.353</td>\n",
       "      <td>0.898116</td>\n",
       "      <td>Social Pillar Score</td>\n",
       "    </tr>\n",
       "    <tr>\n",
       "      <th>...</th>\n",
       "      <td>...</td>\n",
       "      <td>...</td>\n",
       "      <td>...</td>\n",
       "      <td>...</td>\n",
       "    </tr>\n",
       "    <tr>\n",
       "      <th>303</th>\n",
       "      <td>2017</td>\n",
       "      <td>2024-02-03 06:01:10.670</td>\n",
       "      <td>0.819178</td>\n",
       "      <td>Governance Pillar Score</td>\n",
       "    </tr>\n",
       "    <tr>\n",
       "      <th>304</th>\n",
       "      <td>2017</td>\n",
       "      <td>2024-04-06 01:19:13.830</td>\n",
       "      <td>0.526829</td>\n",
       "      <td>ESG Combined Score</td>\n",
       "    </tr>\n",
       "    <tr>\n",
       "      <th>305</th>\n",
       "      <td>2017</td>\n",
       "      <td>2024-04-06 01:19:13.830</td>\n",
       "      <td>0.891304</td>\n",
       "      <td>Product Responsibility Score</td>\n",
       "    </tr>\n",
       "    <tr>\n",
       "      <th>306</th>\n",
       "      <td>2017</td>\n",
       "      <td>2024-01-06 05:10:37.967</td>\n",
       "      <td>0.898148</td>\n",
       "      <td>CSR Strategy Score</td>\n",
       "    </tr>\n",
       "    <tr>\n",
       "      <th>307</th>\n",
       "      <td>2017</td>\n",
       "      <td>2024-01-06 05:10:37.967</td>\n",
       "      <td>0.422414</td>\n",
       "      <td>Shareholders Score</td>\n",
       "    </tr>\n",
       "  </tbody>\n",
       "</table>\n",
       "<p>308 rows × 4 columns</p>\n",
       "</div>"
      ],
      "text/plain": [
       "       FY             SCORECALCDT     SCORE                         TITLE\n",
       "0    2008 2022-08-03 10:12:43.353  0.950658               Workforce Score\n",
       "1    2008 2022-08-03 10:12:43.353  0.900794               Emissions Score\n",
       "2    2008 2022-08-03 10:12:43.353  0.977876            Resource Use Score\n",
       "3    2008 2020-12-07 08:49:58.147  0.885417              Management Score\n",
       "4    2008 2022-08-03 10:12:43.353  0.898116           Social Pillar Score\n",
       "..    ...                     ...       ...                           ...\n",
       "303  2017 2024-02-03 06:01:10.670  0.819178       Governance Pillar Score\n",
       "304  2017 2024-04-06 01:19:13.830  0.526829            ESG Combined Score\n",
       "305  2017 2024-04-06 01:19:13.830  0.891304  Product Responsibility Score\n",
       "306  2017 2024-01-06 05:10:37.967  0.898148            CSR Strategy Score\n",
       "307  2017 2024-01-06 05:10:37.967  0.422414            Shareholders Score\n",
       "\n",
       "[308 rows x 4 columns]"
      ]
     },
     "metadata": {},
     "output_type": "display_data"
    }
   ],
   "source": [
    "# Retrieve the data from Snowflake\n",
    "query_esg = f\"\"\"\n",
    "    SELECT S.FY, S.SCORECALCDT, S.SCORE, I.TITLE\n",
    "    FROM ESG2SCORES S \n",
    "    JOIN ESG2ITEM I ON S.ITEM = I.ITEM \n",
    "    WHERE S.ORGPERMID = {OrgPermID} and I.ITEM IN (2,4,5,6,7,8,9,10,11,12,13,14,15,16,65)\n",
    "    \"\"\"\n",
    "\n",
    "# Execute the query and get the DataFrame\n",
    "df_esg = g_db_session.sql(query_esg).toPandas()\n",
    "\n",
    "display(df_esg)"
   ]
  },
  {
   "cell_type": "code",
   "execution_count": 7,
   "metadata": {},
   "outputs": [
    {
     "data": {
      "text/html": [
       "<div>\n",
       "<style scoped>\n",
       "    .dataframe tbody tr th:only-of-type {\n",
       "        vertical-align: middle;\n",
       "    }\n",
       "\n",
       "    .dataframe tbody tr th {\n",
       "        vertical-align: top;\n",
       "    }\n",
       "\n",
       "    .dataframe thead th {\n",
       "        text-align: right;\n",
       "    }\n",
       "</style>\n",
       "<table border=\"1\" class=\"dataframe\">\n",
       "  <thead>\n",
       "    <tr style=\"text-align: right;\">\n",
       "      <th></th>\n",
       "      <th>CSR Strategy Score</th>\n",
       "      <th>Community Score</th>\n",
       "      <th>ESG Combined Score</th>\n",
       "      <th>Emissions Score</th>\n",
       "      <th>Environment Pillar Score</th>\n",
       "      <th>Environmental Innovation Score</th>\n",
       "      <th>Governance Pillar Score</th>\n",
       "      <th>Human Rights Score</th>\n",
       "      <th>Management Score</th>\n",
       "      <th>Product Responsibility Score</th>\n",
       "      <th>Resource Use Score</th>\n",
       "      <th>Shareholders Score</th>\n",
       "      <th>Social Pillar Score</th>\n",
       "      <th>Workforce Score</th>\n",
       "    </tr>\n",
       "  </thead>\n",
       "  <tbody>\n",
       "    <tr>\n",
       "      <th>0</th>\n",
       "      <td>0.95</td>\n",
       "      <td>0.968165</td>\n",
       "      <td>0.481272</td>\n",
       "      <td>0.806513</td>\n",
       "      <td>0.827386</td>\n",
       "      <td>0.761364</td>\n",
       "      <td>0.84</td>\n",
       "      <td>0.909524</td>\n",
       "      <td>0.956</td>\n",
       "      <td>0.787698</td>\n",
       "      <td>0.895062</td>\n",
       "      <td>0.38</td>\n",
       "      <td>0.925768</td>\n",
       "      <td>0.990637</td>\n",
       "    </tr>\n",
       "  </tbody>\n",
       "</table>\n",
       "</div>"
      ],
      "text/plain": [
       "   CSR Strategy Score  Community Score  ESG Combined Score  Emissions Score  \\\n",
       "0                0.95         0.968165            0.481272         0.806513   \n",
       "\n",
       "   Environment Pillar Score  Environmental Innovation Score  \\\n",
       "0                  0.827386                        0.761364   \n",
       "\n",
       "   Governance Pillar Score  Human Rights Score  Management Score  \\\n",
       "0                     0.84            0.909524             0.956   \n",
       "\n",
       "   Product Responsibility Score  Resource Use Score  Shareholders Score  \\\n",
       "0                      0.787698            0.895062                0.38   \n",
       "\n",
       "   Social Pillar Score  Workforce Score  \n",
       "0             0.925768         0.990637  "
      ]
     },
     "metadata": {},
     "output_type": "display_data"
    }
   ],
   "source": [
    "# Pivot the DataFrame to get the desired format\n",
    "pivot_df_esg = df_esg.pivot(index='FY', columns='TITLE', values='SCORE')\n",
    "\n",
    "# Return most recent FY\n",
    "pivot_df_esg = pivot_df_esg.iloc[[-1]].reset_index(drop=True)\n",
    "pivot_df_esg.columns.name = None\n",
    "\n",
    "display(pivot_df_esg)"
   ]
  },
  {
   "cell_type": "markdown",
   "metadata": {},
   "source": [
    "## Snowflake SQL Worksheets\n",
    "\n",
    "Above, we picked a random OrgPermID, but how can we find the company it relates to? As it turns out, the answer to this question using SFI and SQL code allows us to go quite far.\n",
    "\n",
    "When you open your Snowflake homepage, you ought to be greeted with something looking like:"
   ]
  },
  {
   "cell_type": "markdown",
   "metadata": {},
   "source": [
    "![Image](./Docs/SFBrowsr1.PNG)"
   ]
  },
  {
   "cell_type": "markdown",
   "metadata": {},
   "source": [
    "The main difference should be that you have no ongoing projects.\n",
    "\n",
    "What we're trying to do here is to find the place where company information lies, then maybe we can find out which company has OrgID '4295875633'. To do this, let's 1st select our Role (for more info on Roles, please read [Snowflake's documentaiton](https://docs.snowflake.com/en/user-guide/security-access-control-overview)):"
   ]
  },
  {
   "cell_type": "markdown",
   "metadata": {},
   "source": [
    "![Image](./Docs/SFBrowsr2.PNG)"
   ]
  },
  {
   "cell_type": "markdown",
   "metadata": {},
   "source": [
    "Now that we have selected our role, let's dig through the databases we have access to:"
   ]
  },
  {
   "cell_type": "markdown",
   "metadata": {},
   "source": [
    "![Image](./Docs/SFBrowsr3.PNG)"
   ]
  },
  {
   "cell_type": "markdown",
   "metadata": {},
   "source": [
    "In this article, we focus on SFI databases available on Snowflake, specifically \"SHAREDB_SFI_MVP\" & \"SFI_MASTER_MVP\":"
   ]
  },
  {
   "cell_type": "markdown",
   "metadata": {},
   "source": [
    "![Image](./Docs/SFBrowsr4.PNG)"
   ]
  },
  {
   "cell_type": "markdown",
   "metadata": {},
   "source": [
    "I would always advise starting with the SHAREDB_SFI_MVP.DBO.QASchTableInfo table (i.e.: the SHAREDB_SFI_MVP parent database, the DBO child database, the QASchTableInfo table):"
   ]
  },
  {
   "cell_type": "markdown",
   "metadata": {},
   "source": [
    "![Image](./Docs/SFBrowsr5.PNG)"
   ]
  },
  {
   "cell_type": "markdown",
   "metadata": {},
   "source": [
    "![Image](./Docs/SFBrowsr6.PNG)"
   ]
  },
  {
   "cell_type": "markdown",
   "metadata": {},
   "source": [
    "We can see what data lives in this table with the 'Open in Worksheet' option:"
   ]
  },
  {
   "cell_type": "markdown",
   "metadata": {},
   "source": [
    "![Image](./Docs/SFBrowsr7.PNG)"
   ]
  },
  {
   "cell_type": "markdown",
   "metadata": {},
   "source": [
    "We, unfortunately have to pick our role again:"
   ]
  },
  {
   "cell_type": "markdown",
   "metadata": {},
   "source": [
    "![Image](./Docs/SFBrowsr8.PNG)"
   ]
  },
  {
   "cell_type": "markdown",
   "metadata": {},
   "source": [
    "I would advise changing the code too, since we don't have permission to change any of the data in tables. I go for:\n",
    "\n",
    "`SELECT TOP 10 * FROM SHAREDB_SFI_MVP.DBO.QASCHFIELDINFO`"
   ]
  },
  {
   "cell_type": "markdown",
   "metadata": {},
   "source": [
    "![Image](./Docs/SFBrowsr9.PNG)"
   ]
  },
  {
   "cell_type": "markdown",
   "metadata": {},
   "source": [
    "## Snowflake Python Worksheets\n",
    "\n",
    "Let's see what company is linked with this OrgPermID '4295875633'. To do so, we'll need to venture in the world of Python and Snowflake Worksheets. Open a new Python Worksheet:"
   ]
  },
  {
   "cell_type": "markdown",
   "metadata": {},
   "source": [
    "![Image](./Docs/PythonWrkSht1.png)"
   ]
  },
  {
   "cell_type": "markdown",
   "metadata": {},
   "source": [
    "Let's run the code we had above, but in Snowflake's Worksheets:\n",
    "\n",
    "```\n",
    "# The Snowpark package is required for Python Worksheets. \n",
    "# You can add more packages by selecting them using the Packages control and then importing them.\n",
    "import snowflake.snowpark as snowpark\n",
    "from snowflake.snowpark.functions import col\n",
    "import pandas as pd\n",
    "\n",
    "def main(session: snowpark.Session): \n",
    "\n",
    "    OrgPermID = \"4295875633\"\n",
    "    \n",
    "    query = f\"\"\"\n",
    "    SELECT TABLE_NAME\n",
    "    FROM SHAREDB_SFI_MVP.INFORMATION_SCHEMA.TABLES\n",
    "    WHERE TABLE_NAME ILIKE '%Perm%'\n",
    "    \"\"\"\n",
    "    df = session.sql(query).toPandas()\n",
    "    \n",
    "    print(df)\n",
    "```"
   ]
  },
  {
   "cell_type": "markdown",
   "metadata": {},
   "source": [
    "![Image](./Docs/PythonWrkSht2.png)"
   ]
  },
  {
   "cell_type": "markdown",
   "metadata": {},
   "source": [
    "- In line 9, `OrgPermID = \"4295875633\"` precises the company for which we were doing our search.\n",
    "- Line 11 through to 15 was our SQL query which we will send to Snowflake to run as if we were simply in a SQL Worksheet as before. This code selects the name of all the tables that can be found in the SHAREDB_SFI_MVP database.\n",
    "- Line 16's `session.sql(query).toPandas()` uses the session created in lines 1 to 8 to send the `query` and transforms it into a pandas dataframe. Pandas dataframes are easy to manipulate in Python, although you can choose other types from which to work. We output this dataframe in the object `df`.\n",
    "- In line 18, we simply `print` this dataframe so we can see it in the Output window below the code window in Snowflake's browser window."
   ]
  },
  {
   "cell_type": "markdown",
   "metadata": {},
   "source": [
    "You may wonder \"why did we create python code simply just to send SQL code to Snowflake, when we could do this directly in Snowflake SQL Worksheets?\". Great question; the reason is that we can't use loops in SQL Worksheets! Whereas in Python Worksheets, now we can use the table names to search for the ORGPERMID '4295875633' by using the below in the `main` function:\n",
    "\n",
    "```\n",
    "    query = f\"\"\"\n",
    "        SELECT TABLE_NAME\n",
    "        FROM SHAREDB_SFI_MVP.INFORMATION_SCHEMA.TABLES\n",
    "        WHERE TABLE_NAME ILIKE '%Perm%'\n",
    "        \"\"\"\n",
    "    df = session.sql(query).toPandas()\n",
    "    \n",
    "    for table in df.TABLE_NAME:\n",
    "        try:\n",
    "            query = f\"\"\"\n",
    "                SELECT * FROM SHAREDB_SFI_MVP.DBO.{table}\n",
    "                WHERE ORGPERMID = '4295875633'\n",
    "                \"\"\"\n",
    "            _df = session.sql(query).toPandas()\n",
    "            if len(_df) > 0:\n",
    "                print(\"\\n\")\n",
    "                print(f\"{table}\")\n",
    "                print(_df.T)\n",
    "        except:\n",
    "            print(\"\\n\")\n",
    "            print(f\"{table} didn't have a 'ORGPERMID' column\")\n",
    "```"
   ]
  },
  {
   "cell_type": "markdown",
   "metadata": {},
   "source": [
    "![Image](./Docs/PythonWrkSht3.png)"
   ]
  },
  {
   "cell_type": "markdown",
   "metadata": {},
   "source": [
    "- In line 9 to 13, we create our SQL query, embedding our OrgPermID \"4295875633\", selecting the table names that were outputted before, all to have this list of tables in the dataframe `df` on line 14.\n",
    "- In line 16, we start a loop for each table in our `df` and, from line 18 to 22, create & run queries to collect data from these tables.\n",
    "- Note that, in line 17, we start a try loop. This is due to the fact that some tables will not have an ORGPERMID column, and the code will fail. In line with this, we create an except statement from line 27 to 29.\n",
    "- Finally, from line 23 to 36, we make sure that if we receive data from our SQL query, we display this data with `print` statements."
   ]
  },
  {
   "cell_type": "markdown",
   "metadata": {},
   "source": [
    "We can now see from the `PERMINSTRREF` table that the company probably is \"ENI\" (as highlighted in red boxes in the image above); but let's check. With this code below, I only output the table and columns names for which \"ENI\" is found, fully or partially:\n",
    "\n",
    "```\n",
    "    query = f\"\"\"\n",
    "        SELECT TABLE_NAME\n",
    "        FROM SHAREDB_SFI_MVP.INFORMATION_SCHEMA.TABLES\n",
    "        WHERE TABLE_NAME ILIKE '%Perm%'\n",
    "        \"\"\"\n",
    "    df = session.sql(query).toPandas()\n",
    "    \n",
    "    for table in df.TABLE_NAME:\n",
    "        try:\n",
    "            query = f\"\"\"\n",
    "                SELECT * FROM SHAREDB_SFI_MVP.DBO.{table}\n",
    "                WHERE ORGPERMID = '4295875633'\n",
    "                \"\"\"\n",
    "            _df = session.sql(query).toPandas()\n",
    "            columns_with_name = [col for col in _df.columns if _df[col].astype(str).str.contains('ENI', case=False, na=False).any()]\n",
    "            if len(_df) > 0 and len(columns_with_name) > 0:\n",
    "                print(\"\\n\")\n",
    "                print(f\"Table {table}'s columns where 'ENI' appears:\", columns_with_name)\n",
    "        except:\n",
    "            print(\"\\n\")\n",
    "            print(f\"{table} didn't have a 'ORGPERMID' column\")\n",
    "```"
   ]
  },
  {
   "cell_type": "markdown",
   "metadata": {},
   "source": [
    "![Image](./Docs/PythonWrkSht4.png)"
   ]
  },
  {
   "cell_type": "markdown",
   "metadata": {},
   "source": [
    "I like the sound of 'LEGALNAME'; let's look into it. First let's return to our SQL worksheet:"
   ]
  },
  {
   "cell_type": "markdown",
   "metadata": {},
   "source": [
    "![Image](./Docs/PythonWrkSht5.png)"
   ]
  },
  {
   "cell_type": "markdown",
   "metadata": {},
   "source": [
    "and let's use\n",
    "\n",
    "```\n",
    "SELECT *\n",
    "FROM SHAREDB_SFI_MVP.DBO.PERMORGINFO\n",
    "LIMIT 10;\n",
    "```"
   ]
  },
  {
   "cell_type": "markdown",
   "metadata": {},
   "source": [
    "![Image](./Docs/SFBrowsr10.png)"
   ]
  },
  {
   "cell_type": "markdown",
   "metadata": {},
   "source": [
    "LEGALNAME is indeed quite a lot better; we were right to check all the table and columns names for which \"ENI\" is found, fully or partially, since it looks like we should focus on table SHAREDB_SFI_MVP.DBO.PERMORGINFO.\n",
    "\n",
    "While we looked for this OrgId, you saw that data is split in between all the different databases. Looking for the correct database is a little difficult, but once you get a handle of the Python Worksheets, it's easier.\n",
    "\n",
    "Now, going forward, we are looking for climate data. For this article, I was after Climate data, specifically Green House Gasses Emissions; which is often abbreviated to GHG (i.e.: GHGEmission). Looking into the [myaccount.lseg.com/en/product/quantitative-analytics](https://myaccount.lseg.com/en/product/quantitative-analytics) files related to Climate Data, I found promising information about the SFI_MASTER_MVP.DBO.CLMDataPoint database:"
   ]
  },
  {
   "cell_type": "markdown",
   "metadata": {},
   "source": [
    "![Image](./Docs/SFBrowsr11.png)"
   ]
  },
  {
   "cell_type": "markdown",
   "metadata": {},
   "source": [
    "Let's look into SFI_MASTER_MVP.DBO.CLMDataPoint"
   ]
  },
  {
   "cell_type": "markdown",
   "metadata": {},
   "source": [
    "![Image](./Docs/SFBrowsr12.png)"
   ]
  },
  {
   "cell_type": "markdown",
   "metadata": {},
   "source": [
    "Here's ORGPERMID again, let's use this. If you look through the documentation as we did to find SFI_MASTER_MVP.DBO.CLMDataPoint, you'll see that there is a table called SFI_MASTER_MVP.DBO.CLMITEM with item names in full; there I found 'ShortTermSet1GHGEmissionPercentageReductionTargeted', which was a good candidate for being the item I'm interested in. We can pick the data in our CLMDataPoint that only relate to this item:\n",
    "\n",
    "```\n",
    "SELECT *\n",
    "FROM SFI_MASTER_MVP.DBO.CLMDataPoint\n",
    "WHERE ORGPERMID = 4295875633\n",
    "AND ITEM IN (\n",
    "    SELECT ITEM\n",
    "    FROM SFI_MASTER_MVP.DBO.CLMITEM\n",
    "    WHERE FEEDFIELDNAME = 'ShortTermSet1GHGEmissionPercentageReductionTargeted'\n",
    ");\n",
    "```"
   ]
  },
  {
   "cell_type": "markdown",
   "metadata": {},
   "source": [
    "![Image](./Docs/SFBrowsr13.png)"
   ]
  },
  {
   "cell_type": "markdown",
   "metadata": {},
   "source": [
    "Let's join our tables to return only the data we're after:\n",
    "\n",
    "```\n",
    "SELECT \n",
    "    p.ORGPERMID,\n",
    "    p.LEGALNAME,\n",
    "    c.FY,\n",
    "    c.VALUEPRCNT\n",
    "FROM \n",
    "    SHAREDB_SFI_MVP.DBO.PERMORGINFO p\n",
    "JOIN \n",
    "    SFI_MASTER_MVP.DBO.CLMDataPoint c\n",
    "    ON p.ORGPERMID = c.ORGPERMID\n",
    "WHERE \n",
    "    c.ORGPERMID = 4295875633\n",
    "    AND c.ITEM IN (\n",
    "        SELECT ITEM\n",
    "        FROM SFI_MASTER_MVP.DBO.CLMITEM\n",
    "        WHERE FEEDFIELDNAME = 'ShortTermSet1GHGEmissionPercentageReductionTargeted'\n",
    "    );\n",
    "```"
   ]
  },
  {
   "cell_type": "markdown",
   "metadata": {},
   "source": [
    "![Image](./Docs/SFBrowsr14.png)"
   ]
  },
  {
   "cell_type": "markdown",
   "metadata": {},
   "source": [
    "## Conclusion\n",
    "\n",
    "In this Quick Start, we saw how we can retrieve data from LSEG's SFI Snowflake Datawarehouse. As you could see, there are several ways to do this, via (i) Snowflake's Snowpark Python library, (ii) Snowflake SQL Worksheets and (iii) Snowflake Python Worksheets. One may believe that using the Snowpark Python library is easier than the Snowflake SQL Worksheets, or vice versa; and this really speaks volumes about the versatility of Snowflake, and the number of ways you can retrieve data in the manner that is most efficient for your workflow.\n",
    "\n",
    "For a longer and more wholesome use-case example, please read the \"LSEG's SFI Snowflake Datawarehouse: A use-case evaluating public companies' Climate track record using Python and SQL\" article."
   ]
  },
  {
   "cell_type": "markdown",
   "metadata": {},
   "source": []
  }
 ],
 "metadata": {
  "kernelspec": {
   "display_name": "Python 3 (ipykernel)",
   "language": "python",
   "name": "python3"
  },
  "language_info": {
   "codemirror_mode": {
    "name": "ipython",
    "version": 3
   },
   "file_extension": ".py",
   "mimetype": "text/x-python",
   "name": "python",
   "nbconvert_exporter": "python",
   "pygments_lexer": "ipython3",
   "version": "3.8.2"
  }
 },
 "nbformat": 4,
 "nbformat_minor": 4
}
